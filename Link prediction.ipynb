{
 "cells": [
  {
   "cell_type": "markdown",
   "metadata": {},
   "source": [
    "# Link Prediction in the Greek Web\n",
    "\n"
   ]
  },
  {
   "cell_type": "markdown",
   "metadata": {},
   "source": [
    "First we extract the texts from the folders..."
   ]
  },
  {
   "cell_type": "code",
   "execution_count": 1,
   "metadata": {
    "collapsed": true
   },
   "outputs": [],
   "source": [
    "import stemmer as st\n",
    "def process_word(word):\n",
    "    \"\"\"detone and stem word\n",
    "    \"\"\"\n",
    "    new_word = []\n",
    "    tones = { u'Ά' : u'A' , u'Έ': u'Ε', u'Ί': u'Ι', u'Ϊ': u'Ι',\n",
    "             u'Ύ': u'Υ', u'Ϋ': u'Υ', u'Ό' : u'Ο', u'Ή': u'Η', u'Ώ': u'Ω'}\n",
    "    for letter in word:\n",
    "        try:\n",
    "            new_word.append(tones[letter])\n",
    "        except KeyError:\n",
    "            new_word.append(letter)\n",
    "    detoned = ''.join(l for l in new_word)\n",
    "    return st.stem(detoned)\n",
    "    "
   ]
  },
  {
   "cell_type": "code",
   "execution_count": 2,
   "metadata": {
    "collapsed": true
   },
   "outputs": [],
   "source": [
    "import string\n",
    "def process_text(data):\n",
    "    with open('dataset/greekstopwords.txt', 'r') as fp:\n",
    "        stopwords = []\n",
    "        for line in fp:\n",
    "            stopwords.append(line.strip().decode('utf-8').upper())\n",
    "    for domain in data.keys():\n",
    "        text = data[domain]\n",
    "        # remove punctuation\n",
    "        punctuation = set(string.punctuation)    \n",
    "        doc = ''.join([w for w in text if w not in punctuation])\n",
    "        # remove stopwords\n",
    "        doc = [w for w in doc.split() if w not in stopwords]\n",
    "        doc = [w for w in doc if not re.match(r\"$\\d+\\W+|\\b\\d+\\b|\\W+\\d+$\", w)]\n",
    "        doc = ' '.join(process_word(w) for w in doc)\n",
    "        data[domain] = doc\n",
    "    return data        \n"
   ]
  },
  {
   "cell_type": "code",
   "execution_count": 3,
   "metadata": {
    "collapsed": false
   },
   "outputs": [
    {
     "name": "stdout",
     "output_type": "stream",
     "text": [
      "loaded from pickle\n"
     ]
    }
   ],
   "source": [
    "import os\n",
    "import zipfile\n",
    "import nltk\n",
    "import pickle\n",
    "\n",
    "if os.path.isfile('cache/processed_text.pickle'):\n",
    "    with open('cache/processed_text.pickle', 'rb') as pfile:\n",
    "        text_data = pickle.load(pfile)\n",
    "        print \"loaded from pickle\"\n",
    "else:\n",
    "    filenames = os.listdir('dataset/hosts')\n",
    "    raw_text = {}\n",
    "    for zipfilename in filenames:\n",
    "        with zipfile.ZipFile('dataset/hosts/'+zipfilename) as z:\n",
    "            text = \"\"\n",
    "            for filename in z.namelist():\n",
    "                if not os.path.isdir(filename):\n",
    "                    with z.open(filename) as f:\n",
    "                        for line in f:\n",
    "                            text += line.decode(\"utf-8\").upper()\n",
    "                            text += \" \"\n",
    "            raw_text[zipfilename[:-4]] = text\n",
    "    text_data = process_text(raw_text)\n",
    "    with open('cache/processed_text.pickle', 'wb') as pfile:\n",
    "        pickle.dump(text_data, pfile)"
   ]
  },
  {
   "cell_type": "code",
   "execution_count": 4,
   "metadata": {
    "collapsed": true
   },
   "outputs": [],
   "source": [
    "domain_number = {}\n",
    "for i, domain in enumerate(text_data.keys()):\n",
    "    domain_number[domain] = i"
   ]
  },
  {
   "cell_type": "code",
   "execution_count": 5,
   "metadata": {
    "collapsed": false,
    "scrolled": true
   },
   "outputs": [
    {
     "name": "stdout",
     "output_type": "stream",
     "text": [
      "HTTPNEWS247GREIDISEISPASOK\n",
      "ΠΕΜΠΤ\n",
      "ΟΚΤΩΒΡ\n",
      "ΠΟΛΙΤ\n",
      "ΚΟΙΝΩΝ\n",
      "ΟΙΚΟΝΟΜ\n",
      "ΚΟΣΜ\n",
      "ΓΝΩΜ\n",
      "ΠΑΡΑΣΚΗΝΙ\n",
      "ΠΡΩΤΟΣΕΛΙΔ\n",
      "ΡΟΗ\n",
      "ΠΕΡΙΣΣ\n",
      "ΥΓΕΙ\n",
      "LIFE\n",
      "GUIDE\n",
      "ΤΑΞΙΔ\n",
      "VIRAL\n",
      "ΨΥΧΑΓΩΓ\n",
      "ΦΑΓΗΤ\n",
      "CELEBRITIES\n"
     ]
    }
   ],
   "source": [
    "import re\n",
    "doc = [word for word in text_data['news247.gr'].split()[:20]]\n",
    "doc = [w for w in doc if not re.match(r\"$\\d+\\W+|\\b\\d+\\b|\\W+\\d+$\", w)]\n",
    "for w in doc:\n",
    "    print w\n",
    "    #print process_word(word.upper())\n",
    "    #print st.stem(word.upper())"
   ]
  },
  {
   "cell_type": "code",
   "execution_count": 6,
   "metadata": {
    "collapsed": false
   },
   "outputs": [],
   "source": [
    "from __future__ import division\n",
    "import networkx as nx\n",
    "import pprint\n",
    "import random\n",
    "import numpy as np\n",
    "from scipy import sparse\n",
    "from sklearn.model_selection import train_test_split\n"
   ]
  },
  {
   "cell_type": "code",
   "execution_count": 7,
   "metadata": {
    "collapsed": false
   },
   "outputs": [
    {
     "name": "stdout",
     "output_type": "stream",
     "text": [
      "2683\n",
      "2041\n"
     ]
    }
   ],
   "source": [
    "random.seed(1)\n",
    "edges = []\n",
    "with open('dataset/edgelist.txt', 'r')as fp:\n",
    "    for line in fp:\n",
    "        edges.append((line.split()[0], line.split()[1]))\n",
    "print len(edges)\n",
    "nodes = set([node for _tuple in edges for node in _tuple])\n",
    "print len(nodes)"
   ]
  },
  {
   "cell_type": "code",
   "execution_count": 8,
   "metadata": {
    "collapsed": false
   },
   "outputs": [],
   "source": [
    "from sklearn.feature_extraction.text import TfidfVectorizer\n",
    "\n",
    "def compute_text_similarity(data):\n",
    "    vec = TfidfVectorizer(max_df=0.90, min_df=5, max_features=500,lowercase=False ,\n",
    "                          analyzer = 'word')\n",
    "    #vec = TfidfVectorizer(max_df=1, max_features=1000, lowercase=False)\n",
    "    x = vec.fit_transform(data)\n",
    "    for word in vec.get_feature_names():\n",
    "        print word,\n",
    "    return x\n",
    "    "
   ]
  },
  {
   "cell_type": "code",
   "execution_count": 9,
   "metadata": {
    "collapsed": false
   },
   "outputs": [
    {
     "name": "stdout",
     "output_type": "stream",
     "text": [
      "ABOUT ALL AND ARE AT ATHENS AΔΕΙ AΛΛ AΝΘΡΩΠ AΡΘΡ AΤΟΜ BLOG BY COMMENT COMMENTS CONTACT COOKIES COPYRIGHT DE DESIGN EMAIL FACEBOOK FM FOR FROM GOOGLE GREECE GREEK HOME HOT IN IS IT JULY LED LIFESTYLE LIKE LIVE MAY MEDIA MORE NEW NEWS NEWSLETTER NO OCTOBER OF ON ONLINE OR OUT POST POSTED POWERED RADIO READ RESERVED RIGHTS RSS SEARCH SEPTEMBER SHARE SITE THE THIS TO TOP TWEET TWITTER US VIDEO VIEW WEB WITH YOU YOUR ΑΓ ΑΓΟΡ ΑΓΟΡA ΑΓΩΝ ΑΘΗΝ ΑΘΛΗΤ ΑΘΛΗΤΙΣΜ ΑΚΟΛΟΥΘ ΑΚΟΜ ΑΛΛ ΑΛΛA ΑΝAΠΤΥΞ ΑΝΑΖΗΤΗΣ ΑΝΑΚΟΙΝΩΣ ΑΝΘΡΩΠ ΑΠ ΑΠAΝΤΗΣ ΑΠΟ ΑΠΟΣΤΟΛ ΑΠΟΤΕΛ ΑΠΟΤΕΛΕΣΜ ΑΠΟΦAΣ ΑΠΟΦΑΣ ΑΠΟΨ ΑΠΡΙΛ ΑΠΡΙΛΙ ΑΡΘΡ ΑΡΙΘΜ ΑΡΧ ΑΡΧΕΙ ΑΣΦAΛΕΙ ΑΤΤ ΑΥΓ ΑΥΓΟΥΣΤ ΑΥΤ ΑΥΤA ΑΥΤΟΚΙΝΗΤ ΑΦ ΒAΣ ΒΑΘΜΟΛΟΓ ΒΙΒΛ ΒΙΒΛΙ ΒΙΝΤΕ ΒΟΛ ΒΡ ΒΡΙΣΚ ΓΕΝ ΓΕΡΜΑΝ ΓΕΩΡΓΙ ΓΙAΝΝ ΓΙΑΤ ΓΙΝ ΓΙΩΡΓ ΓΝΩΣΤ ΓΟΝ ΓΡAΦ ΓΡΑΦΕΙ ΓΡΗΓΟΡ ΓΥΝΑΙΚ ΔΕ ΔΕΔΟΜΕΝ ΔΕΚ ΔΕΚΕΜΒΡ ΔΗΛΩΣ ΔΗΜ ΔΗΜΗΤΡ ΔΗΜΙΟΥΡΓ ΔΗΜΟΣ ΔΗΜΟΣΙ ΔΗΜΟΣΙΕΥΘ ΔΗΜΟΣΙΕΥΣ ΔΗΜΟΤ ΔΗΜΟΦΙΛ ΔΙAΒΑΣ ΔΙAΡΚΕΙ ΔΙAΦΟΡ ΔΙΑΒAΣ ΔΙΑΒAΣΤ ΔΙΑΓΩΝΙΣΜ ΔΙΑΤΡΟΦ ΔΙΑΦΗΜΙΣ ΔΙΑΧΕΙΡΙΣ ΔΙΕΘΝ ΔΙΕΥΘΥΝΣ ΔΙΚΑΙ ΔΙΚΑΙΩΜ ΔΙΚΤΥ ΔΙΝ ΔΙΟΙΚΗΣ ΔΡAΣ ΔΡΑΣΤΗΡΙΟΤΗΤ ΔΡΟΜ ΔΥΝΑΜ ΔΥΝΑΤΟΤΗΤ ΔΥΟ ΔΥΣΚΟΛ ΔΩΡΕAΝ ΕΒΔΟΜAΔ ΕΓΓΡΑΦ ΕΓΙΝ ΕΔΩ ΕΘΝ ΕΙΔ ΕΙΔΗΣ ΕΙΚΟΝ ΕΙΜΑΣΤ ΕΙΝΑ ΕΙΠ ΕΙΧ ΕΚ ΕΚΔΗΛΩΣ ΕΚΔΟΣ ΕΚΕΙΝ ΕΚΘΕΣ ΕΚΛΟΓ ΕΚΠΑΙΔΕΥΣ ΕΚΠΑΙΔΕΥΤ ΕΚΤ ΕΛΕΓΧ ΕΛΕΥΘΕΡ ΕΛΛAΔ ΕΛΛΑΔ ΕΛΛΗΝ ΕΛΛΗΝΙΚ ΕΝ ΕΝΑ ΕΝΕΡΓΕΙ ΕΝΗΜΕΡΩΣ ΕΝΟΤΗΤ ΕΝΩ ΕΝΩΣ ΕΞΩΤΕΡ ΕΠΙ ΕΠΙΚΑΙΡΟΤΗΤ ΕΠΙΚΟΙΝΩΝ ΕΠΙΛΟΓ ΕΠΙΣ ΕΠΙΣΚΕΨ ΕΠΙΤΡΕΠ ΕΠΙΤΡΟΠ ΕΠΙΧΕΙΡΗΣ ΕΠΟΜΕΝ ΕΠΟΧ ΕΡΓ ΕΡΓΑΣ ΕΡΓΑΣΙ ΕΡΕΥΝ ΕΡΧ ΕΡΩΤΗΣ ΕΤ ΕΤΑΙΡ ΕΤΑΙΡΕΙ ΕΤΣ ΕΥΚΟΛ ΕΥΡ ΕΥΡΩΠ ΕΥΡΩΠΑΙΚ ΕΦΑΡΜΟΓ ΕΦΗΜΕΡΙΔ ΕΧ ΕΩΣ ΖΗΤ ΖΩ ΖΩΗ ΗΛΕΚΤΡΟΝ ΗΜΕΡ ΗΠΑ ΗΤ ΘΕΑΤΡ ΘΕΛ ΘΕΜ ΘΕΣ ΘΕΣΣΑΛΟΝ ΘΕΣΣΑΛΟΝΙΚ ΘΕΩΡ ΙΑΤΡ ΙΔ ΙΔΙ ΙΔΙΑΙΤΕΡ ΙΟΥΛ ΙΟΥΛΙ ΙΟΥΝ ΙΟΥΝΙ ΙΣΤΟΡ ΙΣΤΟΣΕΛΙΔ ΚAΘ ΚAΝ ΚAΠΟΙ ΚAΤ ΚΑΘ ΚΑΙΡ ΚΑΛ ΚΑΛAΘ ΚΑΝ ΚΑΤA ΚΑΤΑΣΚΕΥ ΚΑΤΗΓΟΡ ΚΑΤΗΓΟΡΙ ΚΑῚ ΚΕΝΤΡ ΚΙΝ ΚΛΙΚ ΚΟΙΝ ΚΟΙΝΟΤΗΤ ΚΟΙΝΩΝ ΚΟΣΜ ΚΡΗΤ ΚΡΙΣ ΚΥΒΕΡΝΗΣ ΚΥΠΡ ΚΥΡΙ ΚΥΡΙΑΚ ΚΩΔ ΚΩΝΣΤΑΝΤΙΝ ΛΕ ΛΕΙΤΟΥΡΓ ΛΙΓ ΛΙΣΤ ΛΟΓ ΛΟΓΑΡΙΑΣΜ ΛΥΣ ΜAΘ ΜAΙ ΜAΡΤΙ ΜΑΐ ΜΑΖ ΜΑΘΗΤ ΜΑΡ ΜΑΡΤ ΜΕΓAΛ ΜΕΓΑΛ ΜΕΛ ΜΕΡ ΜΕΣ ΜΕΤA ΜΕΤΑΞ ΜΕΤΡ ΜΕΧΡ ΜΗΝ ΜΗΝΥΜ ΜΙΑ ΜΙΚΡ ΜΜ ΜΟΙΡΑΣΤ ΜΟΝ ΜΟΝAΔ ΜΟΥΣ ΜΟΥΣΕΙ ΜΠΟΡ ΝΕ ΝΕΑ ΝΕΟ ΝΙΚΟΛΑ ΝΟΕΜΒΡ ΝΟΜ ΞΕΚΙΝ ΞΕΝΟΔΟΧΕΙ ΞΕΡ ΟΔΗΓ ΟΙΚΟΓΕΝΕΙ ΟΙΚΟΝΟΜ ΟΙΚΟΝΟΜΙΚ ΟΚΤ ΟΚΤΩΒΡ ΟΚΤΩΒΡΙ ΟΛ ΟΛΑ ΟΛΗ ΟΛΟΚΛΗΡ ΟΛΥΜΠΙΑΚ ΟΜ ΟΜAΔ ΟΜΙΛ ΟΝΟΜ ΟΠ ΟΠΟΙ ΟΡ ΟΡΓΑΝΙΣΜ ΟΣ ΟΣΟ ΟΤΙ ΟΥΤ ΟΧΙ ΠAΝ ΠAΝΤ ΠAΡ ΠΑΓΚΟΣΜ ΠΑΓΚΟΣΜΙ ΠΑΙΔ ΠΑΙΔΙA ΠΑΙΧΝΙΔ ΠΑΡΑΓΩΓ ΠΑΡΑΣΚΕΥ ΠΕΜΠΤ ΠΕΡ ΠΕΡΙΕΧΟΜΕΝ ΠΕΡΙΟΔ ΠΕΡΙΟΧ ΠΕΡΙΠΤΩΣ ΠΕΡΙΣΣ ΠΕΡΙΦΕΡΕΙ ΠΗΓ ΠΛΕ ΠΛΗΡΟΦΟΡΙ ΠΜ ΠΟΔΟΣΦΑΙΡ ΠΟΙΟΤΗΤ ΠΟΛ ΠΟΛΙΤ ΠΟΛΙΤΙΚ ΠΟΛΙΤΙΣΜ ΠΟΛΛ ΠΟΛΛA ΠΟΣ ΠΟΤ ΠΡΑΓΜΑΤΟΠΟΙ ΠΡΕΠ ΠΡΟΒΛΗΜ ΠΡΟΒΟΛ ΠΡΟΓΡAΜΜ ΠΡΟΓΡΑΜΜ ΠΡΟΕΔΡ ΠΡΟΗΓΟΥΜΕΝ ΠΡΟΙΟΝΤ ΠΡΟΣΚΛΗΣ ΠΡΟΣΦΑΤ ΠΡΟΣΦΕΡ ΠΡΟΣΦΟΡ ΠΡΟΣΩΠ ΠΡΟΤAΣ ΠΡΩΤ ΠΩΣ ΣAΒΒΑΤ ΣΕΛΙΔ ΣΕΠ ΣΕΠΤΕΜΒΡ ΣΕΠΤΕΜΒΡΙ ΣΗΜΕΙ ΣΗΜΕΡ ΣΠΙΤ ΣΤΑΘΜ ΣΤΗΛ ΣΤΙΓΜ ΣΤΟΙΧΕΙ ΣΤΟΧ ΣΥΓΚΕΚΡΙΜΕΝ ΣΥΛΛΟΓ ΣΥΜΒΟΥΛ ΣΥΜΒΟΥΛΙ ΣΥΜΜΕΤΟΧ ΣΥΜΦΩΝ ΣΥΝAΝΤΗΣ ΣΥΝΔΕΣ ΣΥΝΔΕΣΜ ΣΥΝΕΔΡΙ ΣΥΝΕΔΡΙΑΣ ΣΥΝΕΝΤΕΥΞ ΣΥΝΕΧΕΙ ΣΥΝΤΑΓ ΣΥΡΙΖ ΣΥΣΤΗΜ ΣΧΕΔ ΣΧΕΣ ΣΧΕΤΙΚA ΣΧΟΛ ΣΧΟΛΕΙ ΣΧΟΛΙ ΣΧΟΛΙΑΣΜ ΣΩΜ ΤΑΚΤ ΤΑΞΙΔ ΤΕΛ ΤΕΛΕΥΤΑΙ ΤΕΤAΡΤ ΤΕΥΧ ΤΕΧΝ ΤΕΧΝΟΛΟΓ ΤΗΛ ΤΗΛΕΦΩΝ ΤΙΜ ΤΙΤΛ ΤΜΗΜ ΤΟ ΤΟΠ ΤΟΣ ΤΟΤ ΤΟΥΡΙΣΜ ΤΟΥΡΚ ΤΟῦ ΤΡ ΤΡAΠΕΖ ΤΡΑΓΟΥΔ ΤΡΙΤ ΤΡΟΠ ΤΣΙΠΡ ΤΥΠ ΤΩΡ ΥΓΕΙ ΥΛ ΥΠAΡΧ ΥΠΗΡΕΣ ΥΠΗΡΕΣΙ ΥΠΟΥΡΓ ΥΨΗΛ ΦΕΣΤΙΒAΛ ΦΙΛ ΦΟΡ ΦΟΡA ΦΥΣΙΚ ΦΩΤ ΦΩΤΟΓΡΑΦ ΦΩΤΟΓΡΑΦΙ ΧAΡΤ ΧΡΕ ΧΡΗΣ ΧΡΗΣΙΜ ΧΡΗΣΙΜΟΠΟΙ ΧΡΗΣΤ ΧΡΟΝ ΧΡΥΣ ΧΩΡ ΧΩΡΙΣ ΩΡ ΩΡΑ (2041, 500)\n"
     ]
    }
   ],
   "source": [
    "X_text = compute_text_similarity(text_data.values())\n",
    "print X_text.shape\n",
    "from sklearn.metrics.pairwise import cosine_similarity\n",
    "\n",
    "cosine = cosine_similarity(X_text)"
   ]
  },
  {
   "cell_type": "code",
   "execution_count": 10,
   "metadata": {
    "collapsed": false
   },
   "outputs": [
    {
     "name": "stdout",
     "output_type": "stream",
     "text": [
      "0.478839219864\n"
     ]
    }
   ],
   "source": [
    "print cosine[domain_number['news247.gr'], domain_number['contra.gr']]"
   ]
  },
  {
   "cell_type": "code",
   "execution_count": 11,
   "metadata": {
    "collapsed": false
   },
   "outputs": [
    {
     "data": {
      "text/plain": [
       "'\\ntopic extraction!\\nhttp://scikit-learn.org/stable/auto_examples/applications/topics_extraction_with_nmf_lda.html#sphx-glr-auto-examples-applications-topics-extraction-with-nmf-lda-py'"
      ]
     },
     "execution_count": 11,
     "metadata": {},
     "output_type": "execute_result"
    }
   ],
   "source": [
    "\"\"\"\n",
    "topic extraction!\n",
    "http://scikit-learn.org/stable/auto_examples/applications/topics_extraction_with_nmf_lda.html#sphx-glr-auto-examples-applications-topics-extraction-with-nmf-lda-py\"\"\""
   ]
  },
  {
   "cell_type": "code",
   "execution_count": 12,
   "metadata": {
    "collapsed": true
   },
   "outputs": [],
   "source": [
    "def text_similarity(src, dst):\n",
    "    return cosine[domain_number[src], domain_number[dst]]  \n",
    "    "
   ]
  },
  {
   "cell_type": "code",
   "execution_count": 13,
   "metadata": {
    "collapsed": true
   },
   "outputs": [],
   "source": [
    "non_existent_edges = {}\n",
    "with open('dataset/not_existing_edges.txt', 'r')as fp:\n",
    "    for line in fp:\n",
    "        non_existent_edges[((line.split()[0], line.split()[1]))] = 0 "
   ]
  },
  {
   "cell_type": "code",
   "execution_count": null,
   "metadata": {
    "collapsed": false
   },
   "outputs": [],
   "source": []
  },
  {
   "cell_type": "code",
   "execution_count": 14,
   "metadata": {
    "collapsed": false
   },
   "outputs": [],
   "source": [
    "#X_train, y_train= train_test_split(edges, test_size=0.15, random_state=1)"
   ]
  },
  {
   "cell_type": "code",
   "execution_count": 15,
   "metadata": {
    "collapsed": false
   },
   "outputs": [
    {
     "name": "stdout",
     "output_type": "stream",
     "text": [
      "2041\n",
      "2683\n"
     ]
    }
   ],
   "source": [
    "import networkx as nx\n",
    "import pprint\n",
    "\n",
    "\"\"\"\n",
    "#G = nx.read_edgelist('dataset/edgelist.txt', delimiter='\\t', create_using=nx.DiGraph())\n",
    "G = nx.DiGraph()\n",
    "G.add_edges_from(X_train)\n",
    "G.add_nodes_from(nodes)\"\"\"\n",
    "G = nx.read_edgelist('dataset/edgelist.txt', delimiter='\\t', create_using=nx.DiGraph())\n",
    "print(len(G.nodes()))\n",
    "print(len(G.edges()))"
   ]
  },
  {
   "cell_type": "code",
   "execution_count": 16,
   "metadata": {
    "collapsed": false
   },
   "outputs": [
    {
     "name": "stdout",
     "output_type": "stream",
     "text": [
      "4140197\n"
     ]
    }
   ],
   "source": [
    "non_edges = [edge for edge in list(nx.non_edges(G)) if not non_existent_edges.has_key(edge)]\n",
    "#4160957\n",
    "\n",
    "print len(non_edges)"
   ]
  },
  {
   "cell_type": "code",
   "execution_count": 17,
   "metadata": {
    "collapsed": false
   },
   "outputs": [
    {
     "name": "stdout",
     "output_type": "stream",
     "text": [
      "2683\n"
     ]
    }
   ],
   "source": [
    "sum_in_degree = sum(G.in_degree().values())\n",
    "print sum_in_degree"
   ]
  },
  {
   "cell_type": "code",
   "execution_count": 18,
   "metadata": {
    "collapsed": true
   },
   "outputs": [],
   "source": [
    "def neighborhood(src, dst):\n",
    "    neigh = {}\n",
    "    neigh['out_src'] = G.out_degree(src)/G.degree(src)\n",
    "    neigh['in_dst'] = G.in_degree(dst)/G.degree(dst)\n",
    "    # maybe remove the next two features\n",
    "    #neigh['in_src'] = G.in_degree(src)/G.degree(src)\n",
    "    #neigh['out_dst'] = G.out_degree(dst)/G.degree(dst)    \n",
    "    src_neigh = list(nx.all_neighbors(G, src))\n",
    "    dst_neigh = list(nx.all_neighbors(G, dst))\n",
    "    #neigh['common_neighbors'] = len(set(src_neigh).intersection(dst_neigh))/(G.degree(src)+G.degree(dst))\n",
    "    out_dst = [a for _, a in G.out_edges(dst)]\n",
    "    in_dst = [a for a, _ in G.in_edges(dst)]\n",
    "    out_src = [a for _, a in G.out_edges(src)]    \n",
    "    in_src = [a for a, _ in G.in_edges(src)]\n",
    "    try:\n",
    "        neigh['n_common_in'] = len(set(in_src).intersection(in_dst))/(G.in_degree(src)+G.in_degree(dst))\n",
    "    except ZeroDivisionError:\n",
    "        neigh['n_common_in'] = 0\n",
    "    try:\n",
    "        neigh['n_common_out'] = len(set(out_src).intersection(out_dst))/(G.out_degree(src)+G.out_degree(dst))\n",
    "    except ZeroDivisionError:\n",
    "        neigh['n_common_out'] = 0\n",
    "    return neigh"
   ]
  },
  {
   "cell_type": "code",
   "execution_count": 19,
   "metadata": {
    "collapsed": true
   },
   "outputs": [],
   "source": [
    "pagerank = nx.pagerank(G)"
   ]
  },
  {
   "cell_type": "code",
   "execution_count": 20,
   "metadata": {
    "collapsed": false
   },
   "outputs": [],
   "source": [
    "betweeness = nx.betweenness_centrality(G)\n",
    "closeness = nx.closeness_centrality(G)\n",
    "eigenvector = nx.eigenvector_centrality(G)\n",
    "degree = nx.degree_centrality(G)\n",
    "in_degree = G.in_degree()\n",
    "out_degree = G.out_degree()"
   ]
  },
  {
   "cell_type": "code",
   "execution_count": 21,
   "metadata": {
    "collapsed": true
   },
   "outputs": [],
   "source": [
    "import math\n",
    "def adamic_adar(src, dst):\n",
    "    score = 0\n",
    "    common = list(set(G.neighbors(src)).intersection(G.neighbors(dst)))\n",
    "    for node in common:\n",
    "        score += 1/np.log(len(G.neighbors(node)))\n",
    "    return sum(1 / math.log(G.degree(w))\n",
    "                   for w in common)     \n",
    "    "
   ]
  },
  {
   "cell_type": "code",
   "execution_count": 22,
   "metadata": {
    "collapsed": false
   },
   "outputs": [
    {
     "name": "stderr",
     "output_type": "stream",
     "text": [
      "/usr/local/lib/python2.7/dist-packages/ipykernel/__main__.py:6: RuntimeWarning: divide by zero encountered in log\n",
      "/usr/local/lib/python2.7/dist-packages/ipykernel/__main__.py:6: RuntimeWarning: divide by zero encountered in double_scalars\n"
     ]
    },
    {
     "data": {
      "text/plain": [
       "3.0020540579927957"
      ]
     },
     "execution_count": 22,
     "metadata": {},
     "output_type": "execute_result"
    }
   ],
   "source": [
    "adamic_adar('news247.gr', 'contra.gr')"
   ]
  },
  {
   "cell_type": "code",
   "execution_count": 23,
   "metadata": {
    "collapsed": false
   },
   "outputs": [],
   "source": [
    "matrix = nx.adjacency_matrix(G)"
   ]
  },
  {
   "cell_type": "code",
   "execution_count": 24,
   "metadata": {
    "collapsed": false
   },
   "outputs": [],
   "source": [
    "import igraph as ig\n",
    "import louvain_igraph as louvain\n",
    "G_new = ig.Graph()\n",
    "G_new.add_vertices(G.nodes())\n",
    "G_new.add_edges(G.edges())"
   ]
  },
  {
   "cell_type": "code",
   "execution_count": 25,
   "metadata": {
    "collapsed": false
   },
   "outputs": [],
   "source": [
    "opt = louvain.Optimiser()\n",
    "partition = opt.find_partition(graph=G_new,partition_class=louvain.SignificanceVertexPartition)"
   ]
  },
  {
   "cell_type": "code",
   "execution_count": 26,
   "metadata": {
    "collapsed": false
   },
   "outputs": [],
   "source": [
    "partition = list(partition)\n",
    "partition_names = []\n",
    "for com in partition:\n",
    "    new_com = []\n",
    "    for node_id in com:\n",
    "        new_com.append(G_new.vs[node_id]['name'])\n",
    "    partition_names.append(new_com)\n",
    "# extract names\n",
    "partitions = { node : [] for node in G.nodes()}\n",
    "for com in partition_names:\n",
    "    for node in com:\n",
    "        partitions[node].extend(com)"
   ]
  },
  {
   "cell_type": "code",
   "execution_count": 27,
   "metadata": {
    "collapsed": false
   },
   "outputs": [
    {
     "name": "stdout",
     "output_type": "stream",
     "text": [
      "[u'politikanet.gr', u'katafylli.gr', u'skopelosonline.gr', u'inital.gr', u'arcadiasports.gr', u'bookone1.gr', u'aoristies.gr', u'oraiokastro24.gr', u'siriosfm.gr', u'sdeeth.gr', u'mypatra.gr', u'radioamfilochia.gr', u'ekriti.gr', u'paok-athens.gr', u'sarakis.gr', u'venceremos33.blogspot.gr', u'sportcyclades.gr', u'omospondiadaniolipton.gr', u'pireasnow.gr', u'hysteria.gr', u'radiomanos.gr', u'katanalotis.gr', u'nexusmanagementconsultants.gr', u'misitimi.gr', u'oxafies.com', u'erassitexnikopodosfairo.blogspot.gr', u'pkteam.gr', u'betforthewinners.gr', u'eplski.gr', u'oragiaspor-dramas.gr', u'epskastorias.gr', u'freddonews.gr', u'frontpages.gr']\n",
      "[u'tourist-guides.gr', u'mpass.gr', u'theacropolismuseum.gr', u'neolaia.gr', u'alkal.gr', u'gbroofgarden.gr', u'cna.org.cy', u'studenthouse.gr', u'grandebretagne.gr']\n",
      "[u'fiat.gr', u'fiatprofessional.gr']\n",
      "[u'left.gr', u'candianews.gr', u'djchriskaltsas.gr', u'parallaximag.gr', u'epohi.gr', u'tiniakos.gr', u'iskra.gr', u'fisy.gr', u'seisaxthia.wordpress.com', u'topontiki.gr', u'fylosykis.gr', u'ilioupoligiaolous.gr', u'realestatenews.gr', u'ekdohi.gr', u'alterthess.gr', u'rizospastis.gr', u'imerodromos.gr']\n",
      "[u'archelon.gr', u'360photo.gr', u'lakepamvotis.gr', u'kerkini.gr', u'callisto.gr', u'siniparxi.gr', u'cob.gr']\n",
      "[u'plantron.gr', u'terracom.gr', u'apostolata.gr', u'advance-it.gr', u'asterishotel.gr']\n",
      "[u'mamafromgreece.blogspot.gr', u'axortagos.gr', u'a-pistefto.blogspot.gr', u'3ystra.gr', u'tromero.eu', u'ktelfthiotidos.gr', u'bloggertricks.gr', u'gkordis.com', u'tweetyblogs.gr']\n",
      "[u'hoteleuropa.gr', u'secureshop.gr', u'perantinostravel.gr']\n",
      "[u'tsig.gr', u'moustakasbikes.gr', u'dermatologist.gr', u'zozef.gr', u'gna.gr', u'eoskorinthou.gr', u'acs.gr', u'myxolargos.gr', u'homecareshop.gr', u'ec-goc.gr', u'orange-kosmima.gr', u'praktikesidees.gr', u'housevilla.gr', u'exhibit.gr', u'astrawoman.gr', u'monotech.gr', u'egynaika.gr', u'off-road.gr', u'site-com.gr', u'3lykeiolamias.gr', u'siamakis-lawyers.gr', u'ledcosmos.gr', u'ihomeservice.gr', u'efarmakeio.gr', u'kapadiatrofi.gr', u'imcmodels.gr', u'amanites.gr', u'danagennisi.gr', u'narlis.gr', u'moto-plus.gr', u'tselepis-zaxos.gr', u'agoraseto.gr', u'selasenergy.gr', u'myvillage.gr', u'vimatizo.gr', u'open365.gr', u'google.gr', u'onisimos.gr', u'vassaras.gr', u'interfox.gr', u'sagiakos.gr']\n",
      "[u'motoadv.gr', u'madnomad.gr']\n",
      "[u'psychinfo.gr', u'eirinika.gr', u'regionalpress.gr', u'imerisia-ver.gr']\n",
      "[u'arcon.gr', u'fsth.gr', u'oraio.gr', u'pressaris.gr', u'readfree.gr', u'myastro.gr', u'press724.gr', u'theskati.gr', u'mikrouli.gr']\n",
      "[u'ekabnews.gr', u'dimokratiki.gr', u'12ne.gr', u'futuremedia.gr', u'fire.gr', u'ygeia360.gr']\n",
      "[u'opopilis.gr', u'kroupi.gr', u'dimospylis.gr']\n",
      "[u'eviarchitects.gr', u'paravouniotissa.gr', u'eleftherostypos.gr', u'naevias.gr', u'eretrianews.gr']\n",
      "[u'atticocollege.gr', u'anatropionline.gr', u'ereportaz.gr', u'grafts.gr']\n",
      "[u'prokirixi.gr', u'eni-eopyy.gr', u'forologikanea.gr', u'abtax.gr', u'et.gr', u'doe.gr', u'housepro.gr', u'katraslaw.gr', u'pim.gr']\n",
      "[u'xalatsiscare.gr', u'patmos.gr', u'itbiz.gr', u'inlarissa.gr', u'vedi.gr', u'dimosagias.gr', u'valglass.gr', u'dimosfarsalon.gr']\n",
      "[u'kairos123.gr', u'sport-news24gr.blogspot.gr', u'gossiptime.gr', u'greekcook.gr', u'agones.gr', u'asteiakia.gr', u'paixnidia24.gr']\n",
      "[u'panionianea.gr', u'postin.gr', u'borioipirotika.blogspot.gr', u'logiastarata.gr', u'thermo-portal.gr', u'reportaznet.gr', u'totalfitness.gr', u'techblog.gr', u'hellas-now.com', u'lougantina.blogspot.gr', u'scorernews.gr', u'tilegrafima.gr', u'kranosgr.blogspot.gr', u'greveniotis.gr', u'parapona-rodou.blogspot.gr', u'greek-inews.gr', u'videocosmos.gr', u'xespao.gr', u'vatolakkiotis.blogspot.gr', u'epsilontv.gr', u'meteo-news.gr', u'bloodyfever.com', u'enarxikospolitis.blogspot.gr', u'kilkistoday.gr', u'thema-xronou.gr', u'orthodoxia-ellhnismos.gr', u'lobbystas.gr', u'staratalogia.blogspot.gr', u'diogenis-press.gr', u'epixirimatias.gr', u'lithosfotos.blogspot.gr', u'pireasnews.gr', u'verikoko.net', u'neanews.gr', u'antipagkosmiopoihsh.gr', u'sfedona.gr', u'cityvoice.gr', u'zeidoron.blogspot.gr', u'thesecretrealtruth.blogspot.gr', u'press-gr.com', u'sahiel.gr', u'dimiwise.gr', u'kanapedatos.blogspot.gr', u'katohika.gr', u'newsalamina.net', u'indeepanalysis.gr', u'meteoliosia.gr', u'i-diadromi.gr', u'click4money.gr', u'onestopdeals.gr', u'filonoi.gr', u'greki-gr.blogspot.gr', u'freepen.gr', u'voreini.gr', u'4news.gr', u'loutrakiblog.gr', u'tampouloukia.gr', u'attikanea.blogspot.gr', u'e-diseis.gr', u'aetoshal.blogspot.gr', u'aetos-grevena.blogspot.gr', u'zoomblog.org', u'ekorinthos.gr', u'kapistri.blogspot.gr', u'svouranews.gr', u'neadiatrofis.gr', u'redskywarning.blogspot.gr', u'alexiptoto.com', u'epirus-tv-news.gr', u'anekshghta.blogspot.gr', u'booksmania.gr', u'papatzides.blogspot.gr', u'kokoria.gr', u'parakato.gr', u'thessi.gr', u'ammosimathia.blogspot.gr', u'jokestream.blogspot.gr', u'typologies.gr', u'neogr.blogspot.gr', u'adiexodos.gr', u'anekdotakiastv.blogspot.gr']\n",
      "[u'antikythira-enosi.gr', u'kithiraikanea.blogspot.gr', u'kythirionpolitia.gr', u'ip.gr', u'antikythera-mechanism.gr', u'enimerosis.gr']\n",
      "[u'eastmedyachtshow.gr', u'capital.gr', u'breakthroughgreece.gr', u'shape.gr', u'travelling.gr', u'steliosparliaros.gr', u'mononews.gr', u'yupiii.gr', u'atticamediagroup.gr']\n",
      "[u'aixmi-news.gr', u'sinidisi.gr', u'prototypia.gr', u'epoxi.gr', u'weatheronline.gr', u'agrinionews.gr', u'thermo.gov.gr', u'mylefkada.gr', u'e-maistros.gr', u'symol.gr', u'allsportsagrinio.gr']\n",
      "[u'sofihotel.gr', u'ferries.gr']\n",
      "[u'opcmagazine.gr', u'ioniantv.gr', u'alphafreepress.gr', u'peristerinews.gr', u'alterinfo.gr', u'vimanews.gr', u'startmedia.gr', u'ellhnonfos.blogspot.gr', u'akroama.gr', u'newspao.gr', u'nonpapernews.gr', u'pess.gr', u'creteplus.gr', u'protoselidaefimeridon.gr', u'apokoronaslife.gr', u'hortiatis570.gr', u'glyfadaweb.gr', u'eypspkm.gr']\n",
      "[u'now24.gr', u'mitatomasaouti.gr']\n",
      "[u'sainiaa.blogspot.gr', u'pinnokio.gr', u'dekaneisplaka.gr']\n",
      "[u'akadimiesbasket.gr', u'ymca.gr', u'coachbasketball.gr', u'fryganiotis.gr', u'ae-dikaioubc.gr']\n",
      "[u'gazohori.gr', u'athensfixedgear.gr', u'naftemporiki.gr', u'aiesec.gr', u'avatonpress.gr', u'franchiseportal.gr', u'ticketservices.gr', u'popaganda.gr', u'summercinemas.gr', u'replicant.gr', u'clickatlife.gr', u'dominos.gr', u'avopolis.gr']\n",
      "[u'nb.org', u'greekjustice.gr', u'odee.gr']\n",
      "[u'elde.gr', u'laneshealth.gr', u'care24.gr', u'formamag.gr', u'logodiatrofis.gr']\n",
      "[u'expo-world.gr', u'kosnet.gr', u'kosinfo.gr']\n",
      "[u'photorallypress.gr', u'sportaltv.gr', u'speedforce.gr', u'peristeras-tyres.gr', u'kartnews.gr', u'kokkinhshmaia.gr']\n",
      "[u'lamiatimes.gr', u'cretablog.gr', u'newsn.wordpress.com', u'tokarfi.gr', u'domokos.gr', u'parapolitika.gr']\n",
      "[u'athjcom.gr', u'supersyntages.gr', u'koytsompolio.gr', u'thf.gr', u'iefimerida.gr', u'paspif.gr']\n",
      "[u'monopatiapolitismou.gr', u'aeiforosxoleio.gr', u'teiep.gr']\n",
      "[u'paliokastro.gr', u'arhontiko-predari.gr', u'archontikofiamegou.gr', u'iliovasillema.gr', u'peraalonia.gr', u'oreinikorinthia.gr']\n",
      "[u'redking.gr', u'redpress.gr', u'olympiacos.org', u'redopinion.gr']\n",
      "[u'ede.gr', u'esperides.gr', u'tzaniodiabetes.gr', u'tool.gr', u'hesmo.gr', u'eiep.gr', u'mednet.gr']\n",
      "[u'xronometro.com', u'protothema.gr', u'newsauto.gr', u'nonews-news.blogspot.gr', u'scoops.gr', u'a-special-edition.blogspot.gr', u'agrinionet.gr', u'dramini.gr', u'on-news.gr', u'epirusblog.gr']\n",
      "[u'e-psychology.gr', u'eanagnosis.gr', u'money-money.gr', u'happymind.gr', u'vysinimelissa.gr', u'newsitamea.gr', u'kountouris.gr', u'cosmictelegram.gr', u'alekati.gr', u'odigostoupoliti.eu', u'sotostips.gr', u'botanologia.blogspot.gr', u'tastefull.gr']\n",
      "[u'ptolemaida.gr', u'karanik.gr', u'neaptolemaidas.gr']\n",
      "[u'ertopen.com', u'prn.gr', u'omniatv.com', u'kethea.gr', u'goodnet.gr', u'mitsosbet.gr', u'tokeli.gr']\n",
      "[u'edupame.gr', u'kanep-gsee.gr', u'pamehellas.gr', u'oiele.gr', u'fle.gr', u'syndikatooikodomonathinas.gr']\n",
      "[u'info-sterea.gr', u'business-line.gr', u'info-greece.gr', u'topodigos.gr', u'info-kriti.gr', u'info-thessalia.gr']\n",
      "[u'ekpizo.gr', u'inka.gr', u'siaperaslaw.gr']\n",
      "[u'bankingnews.gr', u'taxydromeio.gr', u'papaioannou-giannis.net', u'fpress.gr', u'makedonianews.gr', u'rednotebook.gr', u'paratiritis-news.gr', u'flashnews.gr', u'pak-elta.gr', u'evianews.com', u'xaxa.gr']\n",
      "[u'e-camping.gr', u'rise.gr', u'beautetinkyriaki.gr', u'athensmagazine.gr', u'fanpage.gr', u'tilestwra.com', u'newsone.gr', u'tsakoseto.blogspot.gr', u'youweekly.gr', u'david-avramidis.gr', u'fimes.gr', u'masternews.gr', u'viralcity.gr']\n",
      "[u'salamisol.gr', u'independent.gr', u'theatromania.gr', u'totrenostorouf.gr', u'mousikes-diadromes.gr', u'artic.gr', u'musicity.gr']\n",
      "[u'athenstimeout.gr', u'techfrog.gr']\n",
      "[u'minfin.gr', u'sethess.gr', u'dake-yppot.gr']\n",
      "[u'melisagraphics.gr', u'ebiskoto.gr']\n",
      "[u'blacknews.gr', u'pythari.gr', u'sport-fm.com.cy', u'tvnea.com', u'filoksenos.blogspot.gr']\n",
      "[u'durostick.gr', u'mastrobob.gr', u'melihourtis.gr']\n",
      "[u'interprom.gr', u'athleticlarissa.gr']\n",
      "[u'karageorgosphotography.gr', u'dreamsbyplatinum.gr', u'kanokratisi.com', u'vgainoexo.gr', u'europeanbabyschool.gr', u'kanokratisi.gr']\n",
      "[u'iteam.gr', u'symmaxiagiatinellada.gr', u'italia.gr']\n",
      "[u'florinapress.gr', u'meteorologos.gr', u'efpalio.wordpress.com', u'pergamoshotel.gr', u'toxwni.gr']\n",
      "[u'pallinipress.blogspot.gr', u'makmarine.gr', u'stinplatia.gr', u'greek-sites.gr', u'waterboys.gr', u'mag.xirafi.gr', u'carblogger.gr', u'pallinotropio.gr']\n",
      "[u'firstevent.gr', u'cretadeal.gr', u'grelia.gr']\n",
      "[u'infokids.gr', u'saveandwin.gr', u'nethall.gr', u'eimaimama.gr', u'deal-deal.gr', u'babysmart.gr']\n",
      "[u'my-tv.gr', u'kritikosfm.gr']\n",
      "[u'tracerclub.gr', u'cycladesguide.gr', u'alphafm.gr', u'fuelprices.gr', u'sony.gr', u'tyreshop.gr', u'anglers.gr']\n",
      "[u'onsports.gr', u'newsbomb.gr', u'cnn.gr', u'gossip-tv.gr', u'weddingblog.gr', u'astrology.gr']\n",
      "[u'dinfo.gr', u'kollima.gr', u'videoman.gr', u'mixanitouxronou.gr', u'apofasizo.gr']\n",
      "[u'mediforma.gr', u'patsialas.gr', u'ophthalmiatreio.gr', u'iatreion.gr']\n",
      "[u'veteranos.gr', u'newshellas.blogspot.gr', u'logiosermis.net', u'creteisland.gr']\n",
      "[u'kanarienhaus.gr', u'klouvi.gr', u'alop.gr', u'canaries.gr']\n",
      "[u'trelokouneli.gr', u'newlifestyle.gr', u'diaforetiko.gr', u'fortunegreece.com', u'e-citymap.gr', u'instyle.gr']\n",
      "[u'ford-sfakianakis.gr', u'sfakianakis.gr']\n",
      "[u'tsakbam.gr', u'fashionstyles.gr', u'astra-oneira.gr']\n",
      "[u'tosynergeio.gr', u'heliev.gr']\n",
      "[u'inevia.gr', u'xreiazomai.gr']\n",
      "[u'arkadiapress.gr', u'arcadia-news.gr', u'arcadiaportal.gr', u'spartakos-dei.gr', u'kafeneio-megalopolis.gr', u'e-gortynia.gr']\n",
      "[u'iator.gr', u'gynae4u.gr', u'pertsemlidis.gr', u'euroclinic.gr', u'hsccp.gr']\n",
      "[u'ellinikabaharika.gr', u'ellinikabotana.gr', u'salveotea.gr']\n",
      "[u'alpamayopro.gr', u'flabouri.gr', u'savvaskonstantinidis.gr']\n",
      "[u'ekdromi.gr', u'tourismawards.gr', u'nespresso-pro.gr', u'traveldailynews.gr', u'globeone.gr']\n",
      "[u'volleyleague.gr', u'newhealthsystem.gr', u'euromedica.gr', u'iatrikodiavalkaniko.gr', u'iatriko.gr', u'cartridgeworld.gr', u'iatrikopsychikou.gr']\n",
      "[u'kalimeraellada.gr', u'anexartitos.gr', u'vitamelia.gr', u'cyclades24.gr', u'travelstyle.gr', u'pets-friends.gr']\n",
      "[u'dimosmaroneiassapon.gr', u'enterprise-hellas.gr']\n",
      "[u'techgear.gr', u'prasinanea.gr', u'news247.gr', u'24media.gr', u'oneman.gr', u'sport24.gr', u'huffingtonpost.gr', u'macuser.gr', u'ladylike.gr', u'contra.gr', u'asrigasferaios.blogspot.gr', u'redplanet.gr', u'olapaok.gr']\n",
      "[u'autotriti.gr', u'museum-hotel.gr']\n",
      "[u'shootandgoal.com', u'briefingnews.gr', u'ikypros.com', u'tothemaonline.com', u'riknews.com.cy', u'lay-out.gr', u'dialogos.com.cy', u'onlycy.com', u'cyprusnet.gr', u'pafospress.com', u'sae.gr', u'cyprusrodos.gr', u'offsite.com.cy', u'cyprusnews.eu']\n",
      "[u'artishard.gr', u'enthemata.wordpress.com', u'cancelletto.gr']\n",
      "[u'baby.gr', u'k-mag.gr', u'cooktherapy.gr', u'astrolife.gr', u'cookbox.gr', u'babytips.gr', u'kissmygrass.gr']\n",
      "[u'leathermall.eu', u'claires.gr', u'villagecinemas.gr', u'themallathens.gr']\n",
      "[u'tuned.gr', u'trustradio.gr']\n",
      "[u'dimoszirou.gr', u'dimosvoiou.gr', u'pdm.gov.gr', u'dimosprevezas.gr', u'php.gov.gr', u'amyntaio.gr', u'apdhp-dm.gov.gr', u'nestorio.gr', u'fskozani.gr', u'dimos-deskatis.gr', u'dimospargas.gr', u'pogoni.gr', u'easytech.gr']\n",
      "[u'redfm.gr', u'zoornalistas.blogspot.gr', u'nrg95.gr', u'cretetv.gr', u'pcmaster.gr', u'thecaller.gr', u'efimerides.eu', u'goalpost.gr', u'arouraios.gr', u'sportit.gr', u'topnews.gr', u'official.gr', u'patrisnews.com', u'el.gr', u'nextdeal.gr', u'axiaplus.gr', u'zappit.gr', u'superbasket.gr']\n",
      "[u'perierga.gr', u'fouit.gr', u'koolnews.gr', u'toratora.gr', u'notfaq.gr', u'messiniaradio.gr', u'thestival.gr']\n",
      "[u'slimmingpills.gr', u'greencoffeeextract.gr', u'lipodialites.gr']\n",
      "[u'filippoupolitis.gr', u'saveltrade.gr']\n",
      "[u'grand-forest.gr', u'biomedicinlab.gr', u'urogyn.gr', u'xeirourgiki-thorakos.gr', u'createyourself.gr', u'medicalhellas.gr', u'vougioukasv.gr', u'podologie.gr', u'laserdentalclinic.gr', u'voyatzimaria.gr', u'nevroepistimes.gr', u'dr-arsenis.gr', u'drpolyzos.gr', u'pmanolakou.gr', u'christoforidou.gr', u'poulakaki.gr', u'drstratis.gr', u'microcheck.gr', u'borousas.gr']\n",
      "[u'poeyps.gr', u'aep.gr']\n",
      "[u'oneirokritis.org', u'herblife.gr', u'sidages.gr']\n",
      "[u'freecinema.gr', u'bloko.gr', u'nooz.gr', u'aiff.gr', u'doubleteam.gr', u'cobrasports.gr', u'eyelands.gr', u'ixthis-12.blogspot.gr', u'ellet.gr']\n",
      "[u'bestpharmacy.gr', u'safesales.gr', u'snif.gr', u'holidayland.gr']\n",
      "[u'cookshop.gr', u'deneinaiparamithi.gr', u'electrocycle.gr', u'fasois.gr']\n",
      "[u'drive.gr', u'krini-kalamaria.blogspot.gr', u'avmag.gr', u'alldaynews.gr', u'protagon.gr', u'realpolitics.gr', u'newsit.gr']\n",
      "[u'styleiconboutique.com', u'irokids.gr', u'troumpoukis.gr', u'toys.gr', u'zarkaditools.gr', u'kmtools.gr', u'kalavroyzioti.gr', u'justshop.gr', u'mandis.gr', u'tshoes.gr', u'moraitopoulos.gr', u'bestprice.gr', u'greekbooks.gr', u'watchoutlet24.com', u'mustshop.gr', u'agorazoome.gr']\n",
      "[u'dsnafpliou.gr', u'nafplionfestival.gr', u'fougaro.gr', u'amfitriti-pension.gr', u'argolidalife.gr', u'nafplio.gr']\n",
      "[u'dentallist.gr', u'atticahealth.gr', u'business-cards.gr', u'health-line.gr']\n",
      "[u'11888.gr', u'ioannina24.gr']\n",
      "[u'sofikoukouvagia.gr', u'ideostato.gr', u'kala-nea.gr', u'peopleandideas.gr', u'ebooks4greeks.gr', u'openbook.gr', u'saitapublications.gr']\n",
      "[u'dimos-amfiklias-elatias.gr', u'aliartos.gov.gr', u'apdattikis.gov.gr', u'malian.gov.gr', u'greek-tourism.gr', u'kimis-aliveriou.gr', u'damt.gov.gr', u'tanagra.gr', u'apdaigaiou.gov.gr', u'mwlos.gr', u'stylida.gr', u'pallini.gr', u'eretria.gr']\n",
      "[u'zografiki.com', u'humor.gr', u'postokano.gr', u'diafimistika.com']\n",
      "[u'kissamostv.gr', u'agonaskritis.gr', u'cretalive.gr', u'epofek.gr']\n",
      "[u'archipelago.gr', u'ikariamag.gr']\n",
      "[u'melodia.gr', u'e-tetradio.gr', u'agorapress.gr', u'fm100.gr', u'arttv.info', u'goodradio.gr', u'arenafm.gr', u'alpha965.gr', u'store.paokfc.gr']\n",
      "[u'elta-courier.gr', u'agrotek.gr', u'e-agri.gr', u'xenonlights.gr', u'autoflan.gr', u'psselta.gr', u'airgunshop.gr', u'myaroma.gr']\n",
      "[u'hcmc.gr', u'teletrade-dj.gr']\n",
      "[u'otishop.gr', u'action24.gr']\n",
      "[u'sky.gr', u'tastv.gr']\n",
      "[u'bathingwaterprofiles.gr', u'eidiseis-simera.gr']\n",
      "[u'koufa.gr', u'mag24.gr', u'allnewsgr.eu', u'aragma.gr', u'stoxasmos-politikh.blogspot.gr', u'diekpereoseis.gr', u'tokoulouri.com', u'epirus-ellas.gr']\n",
      "[u'hamogelo.gr', u'rethymnoguide.gr', u'thatsit.gr', u'eodathens.gr', u'trazeras.gr', u'edok.gr', u'tzivas-epipla.gr', u'greekrowers.blogspot.gr', u'sportsfeed.gr']\n",
      "[u'fractal.gr', u'zclub.gr']\n",
      "[u'xenonasmazaraki.gr', u'palamidi.gr', u'lifo.gr', u'botilia.gr', u'bovis-oliveoil.gr']\n",
      "[u'alexwebradiotv.blogspot.gr', u'fmvoice.gr', u'gavros.gr']\n",
      "[u'myblogs.gr', u'allweirdstories.gr', u'tinostoday.gr', u'anagnostis.org', u'froyros.blogspot.gr', u'moriasnow.gr', u'gnomikilkis.blogspot.gr', u'musicpress.gr', u'inkomotini.gr']\n",
      "[u'zantemats.gr', u'koutipandoras.gr', u'trikkipress.gr', u'hotdoc.gr', u'ellinofreneianet.gr', u'fanaripress.gr']\n",
      "[u'bigstore.gr', u'christmastore.gr']\n",
      "[u'komotinipress.gr', u'kavalapress.gr', u'ioanninapress.gr']\n",
      "[u'chalket.gr', u'museduc.gr', u'greecevirtual.gr', u'gourmed.gr', u'kipi.gr', u'birds.gr', u'cityofathens.gr', u'wwf.gr', u'arnos.gr', u'singleparent.gr', u'elkosmas.gr', u'neo.gr', u'kalyterizoi.gr', u'grafoulis.gr', u'chiourea.gr', u'nestlenoiazomai.gr', u'mazigiatopaidi.gr', u'protaki.gr']\n",
      "[u'wres.gr', u'mavrogiannistravel.gr']\n",
      "[u'epimlas.gr', u'pepkritis.gr']\n",
      "[u'why.gr', u'wrohellas.gr']\n",
      "[u'ktel-lakonias.gr', u'rodosisland.gr', u'aion.gr', u'livingingreece.gr', u'praktiker.gr', u'ktelmacedonia.gr', u'protiserron.gr', u'kariera.gr', u'ktelvolou.gr']\n",
      "[u'armeniakos.gr', u'medicalland.gr', u'financialbox.gr', u'crashonline.gr']\n",
      "[u'4troxoi.gr', u'2cvclub.gr']\n",
      "[u'northmeteo.gr', u'zooradio.gr', u'ibizaclub.gr', u'dynati-ellada.gr']\n",
      "[u'diadoseto.blogspot.gr', u'paradrasi.gr', u'mikroskopio.gr', u'presspublica.gr']\n",
      "[u'xionati.gr', u'kantas.gr']\n",
      "[u'lamiareport.gr', u'thermoydravliki-galaneika.gr']\n",
      "[u'mdahellas.gr', u'missbloom.gr', u'pnoe.gr', u'goldmum.gr', u'toxrisimo.gr', u'theophilos.gr', u'paidorama.com', u'kea-hara.gr', u'ftiaxno.gr']\n",
      "[u'poes.gr', u'aneaed.gr']\n",
      "[u'klinikiagiosloukas.gr', u'babyswimthessaloniki.gr', u'pigolampides.gr', u'frameout.gr']\n",
      "[u'pefni.gr', u'moh.gov.gr', u'pomitedy.gr', u'piraeuspress.gr', u'hivaids.gr', u'2dype.gr', u'amea-blog.blogspot.gr', u'iatrikoprofil.gr']\n",
      "[u'nafsimedon.gr', u'ippoliti.gr']\n",
      "[u'koukles.gr', u'bitros.gr', u'arhon.gr', u'kalco.gr', u'bcom.gr']\n",
      "[u'greekradios.gr', u'citylife24.gr']\n",
      "[u'miltech.gr', u'infognomonpolitics.blogspot.gr', u'militaire.gr', u'elladasimera.blogspot.gr', u'pentapostagma.gr']\n",
      "[u'panteion.gr', u'topa.gr']\n",
      "[u'online-shopping.gr', u'filiatravoice.blogspot.gr', u'ypodomes.com', u'dimostrifylias.gr', u'dailyarticle.gr']\n",
      "[u'publishitmagazine.gr', u'artion.gr', u'metronanalysis.gr', u'artapress.gr', u'psichogios.gr', u'connect-line.gr']\n",
      "[u'inaoussa.gr', u'kerkidasport.gr']\n",
      "[u'trekking.gr', u'bluepalace.gr', u'navigator.gr', u'mastoremata.gr', u'electrahotels.gr', u'insquash.gr', u'kraftpaints.gr', u'sete.gr', u'kepeth.gr']\n",
      "[u'creativityfilms.gr', u'enachannel.gr', u'videotex.gr']\n",
      "[u'pliroforiodotis.gr', u'3guys.gr']\n",
      "[u'enosy.blogspot.gr', u'136.gr', u'babyfeat.gr', u'pamebolta.gr', u'ikk.gr', u'antonisliakos.gr', u'tanea.gr', u'sevipa.gr', u'contra-xreos.gr']\n",
      "[u'info-war.gr', u'parosnews.gr', u'jungle-report.blogspot.gr', u'unfollow.com.gr']\n",
      "[u'onar-andros.gr', u'moca-andros.gr']\n",
      "[u'zoisthanos.gr', u'visit-trikala.gr', u'visit-sporades.gr']\n",
      "[u'maresei.gr', u'nea-acropoli-thes.gr', u'nea-acropoli.gr', u'cityportal.gr', u'kerdiseto.gr']\n",
      "[u'vipnews.gr', u'elzoni.gr', u'hcg.gr', u'koutouzis.gr']\n",
      "[u'pontos-news.gr', u'sportdog.gr', u'insider.gr', u'yiannislucacos.gr', u'sigmalive.com', u'cyta.gr', u'wedia.gr', u'ixoripansi.gr']\n",
      "[u'bullyshop.gr', u'sikushop.gr']\n",
      "[u'cleverstore.gr', u'afasia.gr']\n",
      "[u'greekarchitects.gr', u'profil.gr', u'vakalo.gr']\n",
      "[u'sixdogs.gr', u'roleplay.gr', u'idillivillas.gr']\n",
      "[u'plantech.gr', u'dodoni.gr', u'eex.gr', u'panagiotisathanasopoulos.gr', u'stcatherines.gr', u'uoi.gr', u'epiruspost.gr', u'positivity.gr']\n",
      "[u'humangrid.gr', u'elliniko-argyroupoli.gr', u'e-fimerida.gr', u'dikaiologitika.gr', u'neanika.gr', u'marinedeals.gr', u'organosi20.gr']\n",
      "[u'markos.tv', u'belladonna.gr', u'markostv.gr', u'enikos.gr', u'maxperrychocolates.gr']\n",
      "[u'mysolution.gr', u'10deco.gr']\n",
      "[u'report24.gr', u'korinthiakoi-orizontes.blogspot.gr', u'statesmen.gr', u'lykavitos.gr', u'kalavrytanews.com', u'archontiko.gr', u'ysterografa.gr', u'freddotv.gr']\n",
      "[u'freerider.gr', u'snowguide.gr']\n",
      "[u'amaliadanews.gr', u'echedoros-a.gr', u'greekalert.com', u'hellasforce.com', u'stoxos.gr', u'olympia.gr', u'matrix24.gr', u'teosagapo7.com', u'ekeo.gr']\n",
      "[u'grnet.gr', u'gr-ix.gr']\n",
      "[u'stavento.gr', u'missouras.gr', u'oasth.gr', u'akto.gr']\n",
      "[u'freemeteo.gr', u'paiania.gov.gr', u'oraiokastro.gr', u'martiriko-kommeno.gr', u'dimosdelta.gr', u'kek-nefeli.gr']\n",
      "[u'panetolikos.gr', u'pameproedre.blogspot.gr', u'dramania.gr', u'mycoffees.gr', u'novasports.gr', u'trikalasportiva.gr', u'autovision.gr']\n",
      "[u'fileleutheros.net', u'antiparos.gr', u'esparou.gr']\n",
      "[u'vg24.gr', u'octavaradio.gr']\n",
      "[u'fertilitycrete.gr', u'greenbusiness.gr']\n",
      "[u'xn--mxaefpbee9acbbtbudhf0a7a.gr', u'rinoplastiki.gr', u'lipoanarofisi.gr']\n",
      "[u'dealnow.gr', u'ftina-aeroporika-eisitiria.gr', u'paketadiakopon.gr']\n",
      "[u'meleniko.gr', u'aposerres.gr']\n",
      "[u'indrama.gr', u'astrosnews.gr', u'iatropedia.gr', u'toys-shop.gr']\n",
      "[u'polydroso.gr', u'archaiologia.gr', u'byzantinemuseum.gr', u'festivalandros.gr', u'androsportal.gr', u'webtv.ert.gr', u'alcopolls.gr', u'spartathlon.gr', u'ert.gr', u'hitandrun.gr', u'kilkis24.gr', u'thetoc.gr']\n",
      "[u'bluebig.wordpress.com', u'antikleidi.com', u'nostimonimar.gr', u'mikrasiatis.gr', u'crradio.gr']\n",
      "[u'cooktime.gr', u'hellasbusinessbook.gr', u'agriniotimes.gr', u'omonoia-nafpaktou.gr', u'my-magazine-gr.blogspot.gr', u'chefoulis.gr', u'oikaliteressyntagesmou.blogspot.gr']\n",
      "[u'tribalworldwide.gr', u'edenred.gr', u'gpma.gr']\n",
      "[u'fnews.gr', u'kozanimedia.gr', u'24wro.com.gr', u'sierafm.gr', u'tsotilion.blogspot.gr']\n",
      "[u'wehellas.gr', u'casino.gr', u'bluearena.gr', u'foxbet.gr', u'onlarissa.gr']\n",
      "[u'radiocafe.gr', u'onradio.gr', u'mouzakinews.gr', u'gavdos-dimos.com', u'radio-lehovo.gr', u'gavdosfm.gr', u'aquariusfm.gr']\n",
      "[u'alibinisis.gr', u'coffeerepublic.gr', u'deliolanis.gr', u'athensgo.gr', u'carglass.gr', u'kritikos-sm.gr', u'violanta.gr', u'unescopireas.gr', u'kafkas.gr', u'noratex.gr', u'freshline.gr', u'gounelas.gr']\n",
      "[u'paramarketing.gr', u'polisinthesi.gr', u'fragoulakis.gr']\n",
      "[u'astro.gr', u'venus-spell.gr']\n",
      "[u'toolfinder.gr', u'manioudakis-machines.gr']\n",
      "[u'dimosedessas.gov.gr', u'gng.gr', u'skydra.gr', u'elga.gr']\n",
      "[u'idkaramanlis.gr', u'thanos-plevris.gr', u'kedikoglou.gr', u'ndthessaloniki.gr', u'giakoumatos.gr', u'adonisgeorgiadis.gr', u'xverginis.gr', u'stavros-kalafatis.gr', u'nd.gr']\n",
      "[u'roulismaroulis.wordpress.com', u'pamepreveza.gr', u'provocateur.gr', u'seleo.gr', u'newpost.gr', u'mko-dro.gr', u'analitis.gr']\n",
      "[u'online-royxa.gr', u'online-rouxa.gr']\n",
      "[u'osekk.gr', u'ebasket.gr']\n",
      "[u'roi-kadoglou.gr', u'exploria.gr']\n",
      "[u'play247.gr', u'buldoza.gr', u'simplyburgers.gr', u'arcadialive.gr', u'e-shop.gr', u'thess.gr', u'oneiros.gr', u'citybranding.gr', u'mydrupal.gr', u'greekestate.gr', u'radiobubble.gr', u'insurancemarket.gr', u'kalamatain.gr', u'nylon.gr', u'beetroot.gr', u'opencoffee.gr', u'baas.gr']\n",
      "[u'robotstore.gr', u'xyloioniki.gr', u'aristotleracing.gr', u'ktelthes.gr', u'mihail-fas.gr', u'dasteri.gr', u'henkel.gr', u'pg-plaisio.gr', u'autospark.gr']\n",
      "[u'nrgweb.gr', u'stoplekto.gr', u'asterasnikaias.gr', u'kompodema.gr', u'topiko24.gr', u'olympiakosneonliosion1952.blogspot.gr', u'sportactive.gr']\n",
      "[u'ledomagazo.gr', u'mdigitalphoto.gr', u'cptpapadakisphoto.gr']\n",
      "[u'bee.gr', u'dimitra.gr', u'anthropomania.gr']\n",
      "[u'porphyrios.gr', u'orthmad.gr']\n",
      "[u'katerini.gr', u'festivalolympou.gr', u'dion-olympos.gr']\n",
      "[u'iskavalas.gr', u'isx.gr', u'islesv.gr', u'nlg.gr', u'ispatras.gr', u'xanthinews.gr', u'presidency.gr', u'healthview.gr', u'bioethics.gr', u'cancer-society.gr', u'nchr.gr']\n",
      "[u'businessclub.gr', u'panargiakosfc.gr']\n",
      "[u'cybereddie.gr', u'thevoyager.gr']\n",
      "[u'nightwalk.gr', u'apergia.gr', u'trainose.gr', u'osy.gr']\n",
      "[u'prismaradio.gr', u'lefkadatoday.gr']\n",
      "[u'livefootball.gr', u'multi-news.gr']\n",
      "[u'iskilkis.gr', u'iatroi.eu', u'idika.gr']\n",
      "[u'theatronostimies.gr', u'enlefkofestival.gr', u'ianos.gr']\n",
      "[u'trikalacity.gr', u'milosxotikon.gr']\n",
      "[u'24radio.gr', u'radiomelodia.gr', u'e-ptolemeos.gr']\n",
      "[u'bios.gr', u'bitcoinx.gr', u'voria.gr', u'maxfm.gr', u'e-food.gr', u'dimokratianews.gr', u'efimeridaki.gr']\n",
      "[u'nikaia-church.gr', u'christianity.gr', u'eaep-kastoria.gr']\n",
      "[u'amiad.gr', u'herma-dramatherapy.gr', u'bessistextiles.gr']\n",
      "[u'carp-matchfishing.gr', u'psarema.gr']\n",
      "[u'attikiourologia.gr', u'huanet.gr']\n",
      "[u'petinoshotel.gr', u'saintjohn.gr', u'hotelnissaki.gr']\n",
      "[u'niceandneat.gr', u'beer.gr']\n",
      "[u'dete.gr', u'metropolisradio.gr', u'deliveras.gr', u'douvris.gr', u'velvet968.gr']\n",
      "[u'paidagogiki.gr', u'paidagogikiprotoporia.gr']\n",
      "[u'online-pressblog.blogspot.gr', u'silktech.gr', u'anasfalistoi-oaee.gr', u'thebest.gr', u'thrakitoday.com']\n",
      "[u'doxato.gr', u'prosotsani.gr', u'diaamath.gr', u'eeth.gr', u'europeanyouthcard.gr']\n",
      "[u'cambiabooks.gr', u'ktelattikis.gr', u'tsantiri.gr', u'monopoli.gr', u'olafree-gr.blogspot.gr', u'dikigorosergatologos.gr', u'network-sam.blogspot.gr']\n",
      "[u'irealty.gr', u'mydir.gr']\n",
      "[u'progamerz.gr', u'animeplanet.gr', u'comicworld.gr', u'goradio.gr', u'animehouse.gr', u'gameslife.gr']\n",
      "[u'greekexporters.gr', u'paradise-hotel.gr', u'visitgreece.gr', u'houdishouses.gr', u'symi-hotel-aliki.gr', u'dimos-symis.gr', u'iasonstudios.gr', u'alonissos.gr', u'eooa.gr']\n",
      "[u'zontanonero.gr', u'godtube.gr']\n",
      "[u'albatros.gr', u'taxireservations.gr']\n",
      "[u'paramithia-gia-paidia.gr', u'proskliseis-kartes.gr', u'kidsfun.gr']\n",
      "[u'igniteathens.gr', u'salamina-123.gr', u'agiannopoulos.gr', u'safershop.gr', u'dimos-neaszixnis.gr', u'skai.gr', u'skaikritis.gr', u'insomnia.gr']\n",
      "[u'okana.gr', u'radiopeirasmos.gr', u'patrasevents.gr', u'xarisezoi.gr']\n",
      "[u'advanced-endoscopy.gr', u'bonstudio.gr', u'survival.gr', u'digital4u.gr', u'eligast.gr']\n",
      "[u'platonkek.gr', u'dimoskarditsas.gov.gr', u'esmjt.gr', u'uth.gr', u'statuskek.gr', u'dimosvolos.gr', u'karditsa-city.gr', u'doepap.gr', u'infotaxis.gr', u'oaed.gr']\n",
      "[u'likovrisipefki.gr', u'enypografa.gr', u'sportshero.gr', u'penteli.gov.gr', u'basketblog.gr', u'weplayball.gr', u'5clean.gr', u'edsna.gr', u'gsap.gr', u'womensports.gr', u'makripodis.gr']\n",
      "[u'topi.gr', u'coffeeisland.gr', u'atpreveza.gr', u'gazzetta.gr']\n",
      "[u'bigman.gr', u'ullapopken.gr']\n",
      "[u'youandme.gr', u'tepostone.gr']\n",
      "[u'postwave.gr', u'inner-ear.gr']\n",
      "[u'culturenow.gr', u'allaboutfestivals.gr', u'kefalonitikanea.gr', u'afoistefatou.gr', u'geoservice.gr', u'alphatv.gr', u'saristrafestival.gr', u'greekfestival.gr']\n",
      "[u'e-yliko.gr', u'pdeamth.gr', u'pe19.gr', u'theodoramavridou.blogspot.gr', u'paspa.gr']\n",
      "[u'xsa.gr', u'epirusgate.blogspot.gr', u'thespot.gr', u'happyweek.gr', u'kitespots.gr']\n",
      "[u'agroticanews.gr', u'exelixinews.gr', u'e-volos.gr', u'enwsi.gr', u'programmatileorasis.gr', u'tvaek.blogspot.gr', u'photoscrete.gr', u'lcitynews.blogspot.gr', u'hfaistos.blogspot.gr']\n",
      "[u'childit.gr', u'e-mesara.gr', u'kindykids.gr', u'babyradio.gr']\n",
      "[u'starsports.gr', u'lamiastar.gr', u'beachtennisgreece.gr']\n",
      "[u'alouminia-fousekas.gr', u'primasystems.gr', u'moisiadis-publications.gr', u'alounet.gr']\n",
      "[u'rodosreport.gr', u'secretrhodes.gr']\n",
      "[u'newsrebel.gr', u'e-oro.gr', u'starsmile.gr', u'atticalawyers.gr']\n",
      "[u'ringsofpain.gr', u'inout.gr']\n",
      "[u'toperiodiko.gr', u'diavasame.gr', u'politeianet.gr', u'humbazine.gr', u'kritiki.gr', u'pgeole.gr', u'bookpress.gr', u'bookbar.gr']\n",
      "[u'canava.gr', u'redgas.gr']\n",
      "[u'life2day.gr', u'enternity.gr', u'radioin.gr', u'flix.gr', u'tpdy.gr', u'altsantiri.gr']\n",
      "[u'enduro.gr', u'2stroke.gr']\n",
      "[u'dealistic.gr', u'seofuture.gr']\n",
      "[u'agriniopress.gr', u'e-thessalia.gr', u'kynoclub.gr']\n",
      "[u'ipathessaloniki.gr', u'yperdiavgeia.gr', u'ierapetra.gov.gr']\n",
      "[u'pem.gr', u'narcohypnosis.wordpress.com', u'nomikithess.gr', u'gge.gr', u'auth.gr', u'teloglion.gr']\n",
      "[u'fyta-arkadias.gr', u'plakakia-xoubavlis.gr']\n",
      "[u'soulouposeto.gr', u'thalassoksila.blogspot.gr']\n",
      "[u'fishing-mastro.gr', u'mrkteo.gr', u'redgoal.gr', u'tonerhellas.com']\n",
      "[u'zois.gr', u'barracuda.gr', u'marinco.gr']\n",
      "[u'srortanthoussa.blogspot.gr', u'epsprevezas-lefkadas.gr']\n",
      "[u'atomizer.gr', u'bestof.gr']\n",
      "[u'myfreeshop.gr', u'offerspot.gr']\n",
      "[u'happytv.gr', u'inveria.gr', u'naousanews.gr']\n",
      "[u'newmoney.gr', u'adapokrites.gr', u'fumara.gr', u'nafpaktianews.gr', u'piperies.gr', u'makeleio.gr', u'magicnews.gr']\n",
      "[u'aenol.gr', u'dimoselassonas.gr', u'polygyros.gr', u'ots.gr', u'pavlosmelas.gr']\n",
      "[u'web-mate.gr', u'glaveris.gr']\n",
      "[u'liberal.gr', u'evenizelos.gr', u'intechs.gr', u'pasok.gr', u'moraitisthanos.gr', u'mageirikesdiadromes.gr']\n",
      "[u'tv4e.gr', u'synaxipalaiochoriou.blogspot.gr', u'agiazoni.gr', u'floga.gr', u'immspartis.gr', u'catichisis.gr', u'antibaro.gr', u'imelef.gr', u'imchiou.gr', u'augoustinos-kantiotis.gr', u'in-agiounikolaoutouneou.gr', u'alopsis.gr']\n",
      "[u'statbank.gr', u'traveltimes.gr']\n",
      "[u'hlektronikatsigara.com.gr', u'esmoke.gr']\n",
      "[u'rockandroll.gr', u'kyttarolive.gr']\n",
      "[u'istorikathemata.com', u'rimse.gr', u'aekfans21.com', u'molwlave.blogspot.gr', u'greeknation.blogspot.gr', u'dexiextrem.blogspot.gr', u'eglimatikotita.gr', u'antifonitis.gr', u'symvolinews.gr', u'sitalkisking.blogspot.gr', u'onalert.gr']\n",
      "[u'weirdnews.gr', u'iwrite.gr']\n",
      "[u'pamth.gov.gr', u'fsevrou.gr', u'evros24.gr', u'thrakifm.gr', u'alexpolisonline.com', u'thrakisport.gr', u'sferikos.gr']\n",
      "[u'avek.gr', u'coffeebean.gr']\n",
      "[u'theomana.gr', u'argolikeseidhseis.gr', u'amen.gr']\n",
      "[u'themelio-her.gr', u'esos.gr', u'toergastirisxediou.gr', u'pe03.gr']\n",
      "[u'mekarta.gr', u'orthomedicare.gr', u'cverros.gr', u'ploigos.gr', u'copyexpress.gr', u'iatrica.gr', u'kifissia24.gr']\n",
      "[u'supernaturalgreece.gr', u'abouttvseries.gr', u'tv-island.blogspot.gr', u'cinetv-world.blogspot.gr', u'walking-dead-in-greece.blogspot.gr']\n",
      "[u'pegasus-bio.gr']\n",
      "[u'omorfisterea.gr', u'kavalagoal.gr']\n",
      "[u'bmwriders.gr', u'carparadise.gr']\n",
      "[u'cyclingworld.gr', u'triathlonworld.gr']\n",
      "[u'save4you.gr', u'autopro.gr']\n",
      "[u'ggde.gr', u'adeies-xeiriston.gr']\n",
      "[u'emst.gr', u'photobiennale-greece.gr', u'artnews.gr', u'art-athina.gr']\n",
      "[u'haniotika-nea.gr', u'eparxiakofos.gr', u'stcloris.gr']\n",
      "[u'freebets.gr', u'greekaffiliates.gr']\n",
      "[u'agsavvas-hosp.gr', u'physio.gr', u'craniosacral.gr', u'eeef.gr', u'psf.org.gr']\n",
      "[u'epoli.gr', u'pasonop.gr', u'kozan.gr']\n",
      "[u'zeolithos.gr', u'naturam.gr']\n",
      "[u'elsyn.gr', u'nestos.gr', u'dimosnet.gr']\n",
      "[u'temposport.gr', u'petrogaz.gr', u'panionios.gr']\n",
      "[u'siteline.gr', u'karakiza-tsampika.gr', u'happyparenting.gr', u'wtmnews.gr', u'ellak.gr']\n",
      "[u'greekwineland.gr', u'wineroads.gr']\n",
      "[u'agiamoni.gr', u'jahoo.gr', u'pontarisma.gr']\n",
      "[u'joytv.gr', u'follifollie.gr', u'game20.gr', u'pantso.gr', u'petas.gr']\n",
      "[u'thassosisland.gr', u'golden-beach-inn.gr']\n",
      "[u'mommywiki.gr', u'oloutoukosmouoidiaskeyes.wordpress.com', u'kallisblog.gr', u'spoon-stories.com', u'argiro.gr', u'best-sites.gr', u'all4blogs.gr']\n",
      "[u'cuba.gr', u'deals.touristorama.com']\n",
      "[u'2810.gr', u'radioepirus.gr', u'dos.gr', u'e-sterea.gr']\n",
      "[u'pste.gov.gr', u'moliotis.gr', u'lamia.gr', u'lamiarunfestival.gr']\n",
      "[u'saiti.gr', u'lavaron.gr']\n",
      "[u'autoparts-batteries.gr', u'newcottonplanet.gr', u'softways.gr']\n",
      "[u'aekfc.gr', u'aek.gr', u'chessfed.gr', u'nokchess.gr']\n",
      "[u'elliniko-panorama.gr', u'athensvoice.gr', u'trollingstone.gr']\n",
      "[u'tennisnews.gr', u'kalamatatennis.gr', u'avis.gr', u'tennisforum.gr', u'efoa.gr']\n",
      "[u'eiead.gr', u'ngodiastasi.gr']\n",
      "[u'ivfathenscenter.gr', u'kiveli.gr']\n",
      "[u'respentza.blogspot.gr', u'parapolitiki.com']\n",
      "[u'spitoskylo.gr', u'away.gr', u'couchpotato.gr']\n",
      "[u'energ.gr', u'adtherm.gr']\n",
      "[u'romfea.gr', u'imkastorias.gr', u'ioannis-kapodistrias.gr']\n",
      "[u'footballpro.gr', u'footballleaguenews.gr']\n",
      "[u'xeirotexnes.gr', u'bebeautylicious.gr']\n",
      "[u'pythagoreandiet.blogspot.gr', u'kalliergo.gr']\n",
      "[u'grms.gr', u'laskaridou.gr']\n",
      "[u'gpatoulis.gr', u'isathens.gr']\n",
      "[u'policenet.gr', u'pitsirikidotnet.gr', u'kourdistoportocali.com']\n",
      "[u'limnosgreece.gr', u'emprosnet.gr', u'lesvosgreece.gr', u'olivenews.gr', u'lesvosbooks.gr']\n",
      "[u'live24.gr', u'loveradio.gr', u'ellinilatris.blogspot.gr']\n",
      "[u'ameliko.gr', u'rafting-athletic-center.gr']\n",
      "[u'apogee.gr', u'ktelmakedonia.gr', u'greekwinefederation.gr']\n",
      "[u'prv2014thess.gr', u'kzervas.gr']\n",
      "[u'web-electric.gr', u'bitamin.gr']\n",
      "[u'faysbook.gr', u'gimnastirio.gr']\n",
      "[u'pirsosfiliatra.gr', u'filiatranews.blogspot.gr', u'moriasnews.gr']\n",
      "[u'asterastripolis.gr', u'drt915.gr', u'5ae.gr']\n",
      "[u'optofashion.gr', u'makelife.gr', u'swanocean.gr']\n",
      "[u'eltrun.gr', u'iheartdigital.gr']\n",
      "[u'flipside.gr', u'pythagoras.gr', u'portareto.gr']\n",
      "[u'pentelikonews.gr', u'enter2life.gr', u'techteam.gr']\n",
      "[u'gossip-news.gr', u'entertv.gr', u'all4mama.gr']\n",
      "[u'movienight.gr', u'games4free.gr']\n",
      "[u'teicrete.gr', u'teiath.gr', u'mignatiou.com', u'philenews.com', u'epikaira.gr', u'korinthiaki.gr', u'express.gr', u'teamgr.gr', u'tpd.gr']\n",
      "[u'photo.gr', u'poukamisas.gr', u'zagori.gov.gr', u'katogi-strofilia.gr', u'kyklostravel.gr', u'weddingphoto.gr', u'athinorama.gr', u'aisxylia.gr', u'vovousafestival.gr']\n",
      "[u'lazareto.gr', u'traveltripolis.gr', u'ehmi.gr', u'mytheatro.gr']\n",
      "[u'iatrikos-velonismos-segredou.gr', u'kifisianews.gr']\n",
      "[u'womensoccer.gr', u'inpaok.com', u'diaitisia.gr']\n",
      "[u'xmall.gr', u'paixnidia-stratigikis.gr', u'beerblog.gr', u'todaynews.gr']\n",
      "[u'nautilia.gr', u'protevousa.gr']\n",
      "[u'nkclinic.gr', u'nutrilabs.gr']\n",
      "[u'vimatisko.gr', u'e-click.gr']\n",
      "[u'dealnews.gr', u'gnomiartas.gr', u'lifestyle-gr.blogspot.gr', u'newsbeast.gr', u'kalamadata.gr', u'epirushotels.gr', u'derpouli.gr', u'press-time.gr']\n",
      "[u'amotoe.gr', u'e-amotoe.gr']\n",
      "[u'diagnovet.gr', u'zoetis.gr']\n",
      "[u'ips.gr', u'toolservice.gr']\n",
      "[u'almyros.gr', u'xiromeritis-epiplo.gr']\n",
      "[u'redhoops.gr', u'redbasketzone.blogspot.gr']\n",
      "[u'ghosthouse.gr', u'athensweekly.gr']\n",
      "[u'safecase.gr', u'grafix.gr']\n",
      "[u'whitedesign.gr', u'mosaiko.gr']\n",
      "[u'hot-and-new.gr', u'ediva.gr', u'pestaola.gr']\n",
      "[u'pellanet.gr', u'ktel-imathias.gr']\n",
      "[u'mariayannakaki.gr', u'newspolis.gr', u'palema.gr']\n",
      "[u'studios-arsenis.gr', u'go-thassos.gr']\n",
      "[u'kethea-alfa.gr']\n",
      "[u'ant1south.gr', u'epslak.gr']\n",
      "[u'in-arachova.gr', u'in-karpenisi.gr']\n",
      "[u'physicsbook.gr', u'safedriving.gr', u'school.gr']\n",
      "[u'karditsalive.net', u'domainemessenicolas.gr']\n",
      "[u'pseh.gr', u'aepseh.gr']\n",
      "[u'diet4me.gr', u'girly-blog.gr', u'psychology-blog.gr']\n",
      "[u'funkycook.gr', u'thefoodiecorner.gr']\n",
      "[u'tipoukeitos.gr', u'eandith.gr']\n",
      "[u'ihunt.gr', u'amynastospiti.gr']\n",
      "[u'greektips.gr', u'zo2.gr', u'jit.gr', u'market-in.gr']\n",
      "[u'olympiaodos.gr', u'aegeanmotorway.gr', u'polispark.gr', u'ellaktor.gr']\n",
      "[u'poulantzas.gr', u'greeninstitute.gr', u'rosalux.gr', u'athina984.gr']\n",
      "[u'3dvision.gr', u'kavalawebnews.gr']\n",
      "[u'to-gamato.gr', u'mama365.gr', u'in2life.gr']\n",
      "[u'fatepaketo.gr', u'empisteutiko.gr', u'proklitiko.gr', u'gigagora.gr', u'barista-shop.gr', u'paspartounews.blogspot.gr']\n",
      "[u'eviazoom.gr', u'fnl-guide.com', u'iekpraxis.gr']\n",
      "[u'farosradio.gr', u'pyramisnews.gr']\n",
      "[u'skoap.gr', u'shooters.gr']\n",
      "[u'dearlife.gr', u'pinky.gr', u'spartoo.gr', u'fashionway.gr']\n",
      "[u'olashoes.gr', u'tsimpato.gr']\n",
      "[u'panathinaikos24.gr']\n",
      "[u'pekp.gr', u'pandiera.gr']\n",
      "[u'thermides.gr', u'my-mosxato.blogspot.gr', u'makthes.gr', u'espressonews.gr']\n",
      "[u'greeklanguage.gr', u'realvalue.gr', u'edulll.gr', u'yperia.gr', u'help-forward.gr', u'certh.gr', u'ellinikamarket.gr']\n",
      "[u'dad.gr', u'agapotonalimo.gr', u'dimotikosafari.blogspot.gr', u'silvercity.gr']\n",
      "[u'playradio.gr', u'radioact.gr', u'aerasnews.gr', u'patratora.gr']\n",
      "[u'ski.gr', u'3-5pigadia.gr']\n",
      "[u'stegastra.gr', u'greatdeals.gr']\n",
      "[u'apn.gr', u'highoctane.gr', u'giparakis.gr', u'dailyfix.gr']\n",
      "[u'karditsaportal.gr', u'bookmaniashop.gr']\n",
      "[u'zero-project.gr', u'artcom.gr']\n",
      "[u'eco-flame.gr', u'pellet-stove.gr']\n",
      "[u'direction.gr', u'advertising.gr', u'businessnews.gr']\n",
      "[u'rossdaly.gr', u'creta-oil.gr', u'laditsouderos.gr', u'centralparking.gr', u'metrovista.gr']\n",
      "[u'iporta.gr', u'rodosblog-xrisostomos.blogspot.gr', u'verena.gr']\n",
      "[u'ggda.gr', u'designmag.gr']\n",
      "[u'exostispress.gr', u'greencookie.gr', u'mic.gr']\n",
      "[u'asxetos.gr', u'elenkw.gr', u'gourmelia.gr', u'dietup.gr', u'ipop.gr']\n",
      "[u'corfuland.gr', u'ekepee.gr']\n",
      "[u'filippos-veria.gr', u'libver.gr']\n",
      "[u'alfapiprint.gr', u'pella-lemoni.gr', u'infoscope.gr', u'enallaktikos.gr']\n",
      "[u'karate.gr', u'epszakynthou.gr']\n",
      "[u'esyf.gr', u'axivenpestcontrol.gr']\n",
      "[u'meteo2day.gr', u'dailyweb.gr']\n",
      "[u'magnesiasports.gr', u'magnesianews.gr', u'eme-mag.gr']\n",
      "[u'foreignaffairs.gr', u'marketnews.gr']\n",
      "[u'sptmte-dei.gr', u'seenp.gr', u'genop.gr']\n",
      "[u'greece-wedding-photography.gr', u'gianneris.gr']\n",
      "[u'fx3.gr', u'digi1.gr']\n",
      "[u'kalavrita.gr', u'greenhotels.gr', u'kastriacave.gr', u'dmko.gr']\n",
      "[u'newcult.gr', u'ntynomai.gr']\n",
      "[u'all-restaurants.gr', u'krystallisrestaurant.gr']\n",
      "[u'flynews.gr', u'vekrakos.gr']\n",
      "[u'volleyball.gr', u'greenmood.gr', u'liberovolley11.blogspot.gr', u'panathinaikoswomensvolleyball.blogspot.gr']\n",
      "[u'kscatering.gr', u'nyfikaks.gr']\n",
      "[u'sab.gr', u'easp.gr']\n",
      "[u'antlies.gr', u'kelekis.gr']\n",
      "[u'axdw.gr', u'seve.gr']\n",
      "[u'aigialeia.gov.gr', u'filodimos.gr']\n",
      "[u'aopoligirou.gr', u'basket.gr']\n",
      "[u'kteokorinthias.gr', u'kteohellas.gr']\n",
      "[u'axelnet.gr', u'deltaconsulting.gr']\n",
      "[u'otticacenter.gr', u'odigos.gr']\n",
      "[u'harryklynn.blogspot.gr', u'odontiatriki.gr', u'gagarin205.gr', u'thehellenicmail.gr', u'avgi.gr']\n",
      "[u'speedslalom.gr', u'karavi.gr']\n",
      "[u'lvlup.gr', u'ledmall.gr']\n",
      "[u'macland.gr', u'techingreek.com', u'greekiphone.gr', u'trifiliworld.gr']\n",
      "[u'boro.gr', u'to-kounavi.gr']\n",
      "[u'rednews24.gr', u'redvoice.gr']\n",
      "[u'serres.gr', u'serrescircuit.gr']\n",
      "[u'erato.gr', u'tind.gr', u'ch3.gr']\n",
      "[u'geneticsunit.gr', u'aranitis.gr']\n",
      "[u'aigaiolive.gr', u'syros-ermoupolis.gr']\n",
      "[u'e-fixit.gr', u'hometools.gr']\n",
      "[u'arionradio.com', u'nextweb.gr', u'e-agenda.gr']\n",
      "[u'antarsya.gr', u'narnet.gr', u'anypotaxtos-mathitis.gr', u'nka.gr']\n",
      "[u'dkracing.gr', u'mxin.gr', u'motoway.gr']\n",
      "[u'thefoodproject.gr', u'hrcc.gr', u'opentourism.gr']\n",
      "[u'tropikos.gr', u'petsite.gr']\n",
      "[u'larissathal.gr', u'chaniathal.gr']\n",
      "[u'hotels-zakynthos.gr', u'kefalonia-hotels.gr', u'hotels-kalavrita.gr']\n",
      "[u'seniorcare.gr', u'lifelinehellas.gr']\n",
      "[u'melissokomos.gr', u'bionews.gr']\n",
      "[u'rollout.gr', u'tandemngo.gr', u'noesi.gr']\n",
      "[u'ledopolis.gr', u'digicraft.gr']\n",
      "[u'neanea.gr']\n",
      "[u'zoiforos.gr', u'petheol.gr']\n",
      "[u'odigosevia.gr', u'oddy.gr']\n",
      "[u'antidiaploki.gr', u'europeone.gr']\n",
      "[u'waterpolonews.gr', u'nov.gr']\n",
      "[u'kprint.gr', u'rethemnosnews.gr']\n",
      "[u'manivoice.gr']\n",
      "[u'orthotrauma.gr', u'edoeap.gr']\n",
      "[u'tire-shop.gr', u'beautylook.gr', u'dataspot.gr']\n",
      "[u'costaslapavitsas.blogspot.gr', u'livanis.gr']\n",
      "[u'mlsshop.gr', u'driveandtravel.gr']\n",
      "[u'8web.gr', u'kympritis.gr']\n",
      "[u'accountclub.gr']\n",
      "[]\n",
      "[]\n",
      "[]\n",
      "[]\n",
      "[]\n",
      "[]\n",
      "[]\n",
      "[]\n",
      "[]\n",
      "[]\n",
      "[]\n",
      "[]\n",
      "[]\n",
      "[]\n",
      "[]\n",
      "[]\n",
      "[]\n",
      "[]\n",
      "[]\n",
      "[]\n",
      "[]\n",
      "[]\n",
      "[]\n",
      "[]\n",
      "[]\n",
      "[]\n",
      "[]\n",
      "[]\n",
      "[]\n",
      "[]\n",
      "[]\n",
      "[]\n",
      "[]\n",
      "[]\n",
      "[]\n",
      "[]\n",
      "[]\n",
      "[]\n",
      "[]\n",
      "[]\n",
      "[]\n",
      "[]\n",
      "[]\n",
      "[]\n",
      "[]\n",
      "[]\n",
      "[]\n",
      "[]\n",
      "[]\n",
      "[]\n",
      "[]\n",
      "[]\n",
      "[]\n",
      "[]\n",
      "[]\n",
      "[]\n",
      "[]\n",
      "[]\n",
      "[]\n",
      "[]\n",
      "[]\n",
      "[]\n",
      "[]\n",
      "[]\n",
      "[]\n",
      "[]\n",
      "[]\n",
      "[]\n",
      "[]\n",
      "[]\n",
      "[]\n",
      "[]\n",
      "[]\n",
      "[]\n",
      "[]\n",
      "[]\n",
      "[]\n",
      "[]\n",
      "[]\n",
      "[]\n",
      "[]\n",
      "[]\n",
      "[]\n",
      "[]\n",
      "[]\n",
      "[]\n",
      "[]\n",
      "[]\n",
      "[]\n",
      "[]\n",
      "[]\n",
      "[]\n",
      "[]\n",
      "[]\n",
      "[]\n",
      "[]\n",
      "[]\n",
      "[]\n",
      "[]\n",
      "[]\n",
      "[]\n",
      "[]\n",
      "[]\n",
      "[]\n",
      "[]\n",
      "[]\n",
      "[]\n",
      "[]\n",
      "[]\n",
      "[]\n",
      "[]\n",
      "[]\n",
      "[]\n",
      "[]\n",
      "[]\n",
      "[]\n",
      "[]\n",
      "[]\n",
      "[]\n",
      "[]\n",
      "[]\n",
      "[]\n",
      "[]\n",
      "[]\n",
      "[]\n",
      "[]\n",
      "[]\n",
      "[]\n",
      "[]\n",
      "[]\n",
      "[]\n",
      "[]\n",
      "[]\n",
      "[]\n",
      "[]\n",
      "[]\n",
      "[]\n",
      "[]\n",
      "[]\n",
      "[]\n",
      "[]\n",
      "[]\n",
      "[]\n",
      "[]\n",
      "[]\n",
      "[]\n",
      "[]\n"
     ]
    }
   ],
   "source": [
    "for com in partition_names:\n",
    "    print com"
   ]
  },
  {
   "cell_type": "code",
   "execution_count": 28,
   "metadata": {
    "collapsed": false
   },
   "outputs": [
    {
     "data": {
      "text/plain": [
       "9"
      ]
     },
     "execution_count": 28,
     "metadata": {},
     "output_type": "execute_result"
    }
   ],
   "source": [
    "def partition_check(src, dst):\n",
    "    counter = 0\n",
    "    for neigh in G.neighbors(src):\n",
    "        if neigh in partitions[dst]:\n",
    "            counter+=1\n",
    "    \"\"\"if src in partitions[dst]:\n",
    "        return 1\n",
    "    else:\n",
    "        return 0\"\"\"\n",
    "    return counter\n",
    "    \n",
    "partition_check('news247.gr', 'ladylike.gr')\n"
   ]
  },
  {
   "cell_type": "code",
   "execution_count": 29,
   "metadata": {
    "collapsed": false
   },
   "outputs": [
    {
     "name": "stdout",
     "output_type": "stream",
     "text": [
      "pagerank DescribeResult(nobs=2041, minmax=(0.00029761511829001677, 0.019530823306958298), mean=0.00048995590396864249, variance=5.1484022288357726e-07, skewness=16.593681826353492, kurtosis=379.97825697924446)\n",
      "closeness DescribeResult(nobs=2041, minmax=(0.0, 0.043706197338373103), mean=0.0011057427491154147, variance=1.0548295767353478e-05, skewness=6.840389761601526, kurtosis=62.844402531343476)\n",
      "betweeness DescribeResult(nobs=2041, minmax=(0.0, 0.0013256810816528672), mean=5.1837164079498881e-06, variance=3.5261533531813181e-09, skewness=16.489608369782463, kurtosis=294.5096041003185)\n",
      "eigenvector DescribeResult(nobs=2041, minmax=(0.0, 0.37735422231142191), mean=0.0017948109226848491, variance=0.00048697315309188523, skewness=13.386178390197925, kurtosis=183.2693369063938)\n",
      "text similarity DescribeResult(nobs=2041, minmax=(array([ 0.,  0.,  0., ...,  0.,  0.,  0.]), array([ 1.,  1.,  1., ...,  1.,  1.,  1.])), mean=array([ 0.14081705,  0.11499577,  0.19841769, ...,  0.18956786,\n",
      "        0.16056721,  0.03456392]), variance=array([ 0.00814462,  0.0042941 ,  0.01530137, ...,  0.01352619,\n",
      "        0.01198027,  0.00277865]), skewness=array([ 1.13119908,  1.64330689,  0.9237617 , ...,  0.47913089,\n",
      "        0.79946699,  6.66819173]), kurtosis=array([  4.41391101,  15.89084406,   1.30397545, ...,   0.49640679,\n",
      "         1.50261023,  81.78381561]))\n"
     ]
    }
   ],
   "source": [
    "from scipy import stats\n",
    "print \"pagerank\", stats.describe(pagerank.values())\n",
    "print \"closeness\", stats.describe(closeness.values())\n",
    "print \"betweeness\", stats.describe(betweeness.values())\n",
    "print \"eigenvector\", stats.describe(eigenvector.values())\n",
    "print \"text similarity\", stats.describe(cosine)"
   ]
  },
  {
   "cell_type": "code",
   "execution_count": 30,
   "metadata": {
    "collapsed": false
   },
   "outputs": [
    {
     "data": {
      "text/plain": [
       "'\\ndef feature_extraction(edge):\\n    src, dst = edge\\n    f_vector = []\\n    f_vector.append(text_similarity(src, dst))\\n    #f_vector.append(pagerank[src])\\n    f_vector.append(pagerank[dst])\\n    f_vector.append(betweeness[src])\\n    f_vector.append(betweeness[dst])\\n    f_vector.append(closeness[dst])\\n    f_vector.append(closeness[src])\\n    f_vector.append(G.in_degree(dst)/G.degree(dst))\\n    f_vector.append(len(set(G.neighbors(src)).intersection(G.neighbors(dst))))\\n    if G.has_edge(dst,src):\\n        f_vector.append(1)\\n    else:\\n        f_vector.append(0)\\n    f_vector.append(adamic_adar(src, dst))\\n    f_vector.append(partition_check(src, dst))\\n    return f_vector\\n    \\n    def feature_extraction(edge):\\n    src, dst = edge\\n    f_vector = []\\n    f_vector.append(text_similarity(src, dst))\\n    #f_vector.append(pagerank[src])\\n    f_vector.append(eigenvector[dst])\\n    f_vector.append(pagerank[dst])\\n    f_vector.append(betweeness[src])\\n    f_vector.append(betweeness[dst])\\n    f_vector.append(closeness[dst])\\n    f_vector.append(closeness[src])\\n    union = len(set(G.neighbors(src)).union(G.neighbors(dst)))\\n    intersection = len(set(G.neighbors(src)).intersection(G.neighbors(dst)))\\n    f_vector.append(intersection)\\n    if union:\\n        f_vector.append(intersection/union)\\n    else:\\n        f_vector.append(0)\\n    f_vector.append(adamic_adar(src, dst))\\n    f_vector.append(partition_check(src, dst))\\n    if G.has_edge(dst,src):\\n        f_vector.append(1)\\n    else:\\n        f_vector.append(0)\\n    return f_vector'"
      ]
     },
     "execution_count": 30,
     "metadata": {},
     "output_type": "execute_result"
    }
   ],
   "source": [
    "def feature_extraction(edge):\n",
    "    src, dst = edge\n",
    "    f_vector = []\n",
    "    f_vector.append(text_similarity(src, dst))\n",
    "    f_vector.append(pagerank[src])\n",
    "    f_vector.append(eigenvector[src])\n",
    "    f_vector.append(eigenvector[dst])\n",
    "    f_vector.append(pagerank[dst])\n",
    "    f_vector.append(betweeness[src])\n",
    "    f_vector.append(betweeness[dst])\n",
    "    f_vector.append(closeness[dst])\n",
    "    f_vector.append(closeness[src])\n",
    "    f_vector.append(adamic_adar(src, dst))    \n",
    "    f_vector.append(partition_check(src, dst))\n",
    "    return f_vector\n",
    "\n",
    "\"\"\"\n",
    "def feature_extraction(edge):\n",
    "    src, dst = edge\n",
    "    f_vector = []\n",
    "    f_vector.append(text_similarity(src, dst))\n",
    "    #f_vector.append(pagerank[src])\n",
    "    f_vector.append(pagerank[dst])\n",
    "    f_vector.append(betweeness[src])\n",
    "    f_vector.append(betweeness[dst])\n",
    "    f_vector.append(closeness[dst])\n",
    "    f_vector.append(closeness[src])\n",
    "    f_vector.append(G.in_degree(dst)/G.degree(dst))\n",
    "    f_vector.append(len(set(G.neighbors(src)).intersection(G.neighbors(dst))))\n",
    "    if G.has_edge(dst,src):\n",
    "        f_vector.append(1)\n",
    "    else:\n",
    "        f_vector.append(0)\n",
    "    f_vector.append(adamic_adar(src, dst))\n",
    "    f_vector.append(partition_check(src, dst))\n",
    "    return f_vector\n",
    "    \n",
    "    def feature_extraction(edge):\n",
    "    src, dst = edge\n",
    "    f_vector = []\n",
    "    f_vector.append(text_similarity(src, dst))\n",
    "    #f_vector.append(pagerank[src])\n",
    "    f_vector.append(eigenvector[dst])\n",
    "    f_vector.append(pagerank[dst])\n",
    "    f_vector.append(betweeness[src])\n",
    "    f_vector.append(betweeness[dst])\n",
    "    f_vector.append(closeness[dst])\n",
    "    f_vector.append(closeness[src])\n",
    "    union = len(set(G.neighbors(src)).union(G.neighbors(dst)))\n",
    "    intersection = len(set(G.neighbors(src)).intersection(G.neighbors(dst)))\n",
    "    f_vector.append(intersection)\n",
    "    if union:\n",
    "        f_vector.append(intersection/union)\n",
    "    else:\n",
    "        f_vector.append(0)\n",
    "    f_vector.append(adamic_adar(src, dst))\n",
    "    f_vector.append(partition_check(src, dst))\n",
    "    if G.has_edge(dst,src):\n",
    "        f_vector.append(1)\n",
    "    else:\n",
    "        f_vector.append(0)\n",
    "    return f_vector\"\"\""
   ]
  },
  {
   "cell_type": "code",
   "execution_count": 31,
   "metadata": {
    "collapsed": false
   },
   "outputs": [
    {
     "name": "stdout",
     "output_type": "stream",
     "text": [
      "[0.47883921986362765, 0.004009557602747434, 0.2705070374673354, 0.310522072601534, 0.0016805343926659456, 0.00022283606919962717, 2.1252247833905517e-05, 0.005404411764705882, 0.006550802139037433, 3.0020540579927957, 9]\n"
     ]
    },
    {
     "name": "stderr",
     "output_type": "stream",
     "text": [
      "/usr/local/lib/python2.7/dist-packages/ipykernel/__main__.py:6: RuntimeWarning: divide by zero encountered in log\n",
      "/usr/local/lib/python2.7/dist-packages/ipykernel/__main__.py:6: RuntimeWarning: divide by zero encountered in double_scalars\n"
     ]
    }
   ],
   "source": [
    "vector = feature_extraction(('news247.gr','contra.gr'))\n",
    "print vector"
   ]
  },
  {
   "cell_type": "code",
   "execution_count": 32,
   "metadata": {
    "collapsed": false
   },
   "outputs": [
    {
     "name": "stderr",
     "output_type": "stream",
     "text": [
      "/usr/local/lib/python2.7/dist-packages/ipykernel/__main__.py:6: RuntimeWarning: divide by zero encountered in double_scalars\n",
      "/usr/local/lib/python2.7/dist-packages/ipykernel/__main__.py:6: RuntimeWarning: divide by zero encountered in log\n"
     ]
    }
   ],
   "source": [
    "X_train = []\n",
    "y_train = []\n",
    "for edge in edges:\n",
    "    X_train.append(feature_extraction(edge))\n",
    "    y_train.append(1)\n",
    "for edge in non_existent_edges:\n",
    "    X_train.append(feature_extraction(edge))\n",
    "    y_train.append(0)\n"
   ]
  },
  {
   "cell_type": "code",
   "execution_count": 34,
   "metadata": {
    "collapsed": false
   },
   "outputs": [
    {
     "name": "stderr",
     "output_type": "stream",
     "text": [
      "/usr/local/lib/python2.7/dist-packages/ipykernel/__main__.py:6: RuntimeWarning: divide by zero encountered in log\n",
      "/usr/local/lib/python2.7/dist-packages/ipykernel/__main__.py:6: RuntimeWarning: divide by zero encountered in double_scalars\n"
     ]
    }
   ],
   "source": [
    "X_predict = []\n",
    "for edge in non_edges:\n",
    "    X_predict.append(feature_extraction(edge))"
   ]
  },
  {
   "cell_type": "code",
   "execution_count": 35,
   "metadata": {
    "collapsed": false
   },
   "outputs": [],
   "source": [
    "X_train_n = np.array(X_train)\n",
    "y_train_n = np.array(y_train)\n",
    "X_predict_n = np.array(X_predict)\n"
   ]
  },
  {
   "cell_type": "code",
   "execution_count": 33,
   "metadata": {
    "collapsed": false
   },
   "outputs": [
    {
     "ename": "NameError",
     "evalue": "name 'X_train_n' is not defined",
     "output_type": "error",
     "traceback": [
      "\u001b[1;31m---------------------------------------------------------------------------\u001b[0m",
      "\u001b[1;31mNameError\u001b[0m                                 Traceback (most recent call last)",
      "\u001b[1;32m<ipython-input-33-eb425b5ecac7>\u001b[0m in \u001b[0;36m<module>\u001b[1;34m()\u001b[0m\n\u001b[0;32m      1\u001b[0m \u001b[1;32mfor\u001b[0m \u001b[0mi\u001b[0m \u001b[1;32min\u001b[0m \u001b[0mrange\u001b[0m\u001b[1;33m(\u001b[0m\u001b[1;36m11\u001b[0m\u001b[1;33m)\u001b[0m\u001b[1;33m:\u001b[0m\u001b[1;33m\u001b[0m\u001b[0m\n\u001b[1;32m----> 2\u001b[1;33m     \u001b[1;32mprint\u001b[0m \u001b[0mstats\u001b[0m\u001b[1;33m.\u001b[0m\u001b[0mdescribe\u001b[0m\u001b[1;33m(\u001b[0m\u001b[0mX_train_n\u001b[0m\u001b[1;33m,\u001b[0m \u001b[0maxis\u001b[0m\u001b[1;33m=\u001b[0m\u001b[1;36m1\u001b[0m\u001b[1;33m)\u001b[0m\u001b[1;33m.\u001b[0m\u001b[0mmean\u001b[0m\u001b[1;33m[\u001b[0m\u001b[0mi\u001b[0m\u001b[1;33m]\u001b[0m\u001b[1;33m,\u001b[0m\u001b[1;33m\u001b[0m\u001b[0m\n\u001b[0m\u001b[0;32m      3\u001b[0m \u001b[1;32mprint\u001b[0m\u001b[1;33m\u001b[0m\u001b[0m\n\u001b[0;32m      4\u001b[0m \u001b[1;32mfor\u001b[0m \u001b[0mi\u001b[0m \u001b[1;32min\u001b[0m \u001b[0mrange\u001b[0m\u001b[1;33m(\u001b[0m\u001b[1;36m11\u001b[0m\u001b[1;33m)\u001b[0m\u001b[1;33m:\u001b[0m\u001b[1;33m\u001b[0m\u001b[0m\n\u001b[0;32m      5\u001b[0m     \u001b[1;32mprint\u001b[0m \u001b[0mstats\u001b[0m\u001b[1;33m.\u001b[0m\u001b[0mdescribe\u001b[0m\u001b[1;33m(\u001b[0m\u001b[0mX_train_n\u001b[0m\u001b[1;33m,\u001b[0m \u001b[0maxis\u001b[0m\u001b[1;33m=\u001b[0m\u001b[1;36m1\u001b[0m\u001b[1;33m)\u001b[0m\u001b[1;33m.\u001b[0m\u001b[0mvariance\u001b[0m\u001b[1;33m[\u001b[0m\u001b[0mi\u001b[0m\u001b[1;33m]\u001b[0m\u001b[1;33m,\u001b[0m\u001b[1;33m\u001b[0m\u001b[0m\n",
      "\u001b[1;31mNameError\u001b[0m: name 'X_train_n' is not defined"
     ]
    }
   ],
   "source": [
    "for i in range(11):\n",
    "    print stats.describe(X_train_n, axis=1).mean[i],\n",
    "print\n",
    "for i in range(11):\n",
    "    print stats.describe(X_train_n, axis=1).variance[i],"
   ]
  },
  {
   "cell_type": "code",
   "execution_count": 36,
   "metadata": {
    "collapsed": false
   },
   "outputs": [
    {
     "data": {
      "text/plain": [
       "array([  1.81467172e-01,   2.97615118e-04,   0.00000000e+00,\n",
       "         9.38850476e-06,   1.67151672e-02,   0.00000000e+00,\n",
       "         0.00000000e+00,   0.00000000e+00,   4.90196078e-04,\n",
       "         0.00000000e+00,   1.00000000e+00])"
      ]
     },
     "execution_count": 36,
     "metadata": {},
     "output_type": "execute_result"
    }
   ],
   "source": [
    "X_train_n[0]"
   ]
  },
  {
   "cell_type": "code",
   "execution_count": 37,
   "metadata": {
    "collapsed": false
   },
   "outputs": [
    {
     "data": {
      "text/plain": [
       "'from sklearn import preprocessing\\nX_train_scaled = preprocessing.scale(X_train_n, axis=1)\\nprint X_train_scaled[0]\\nX_predict_scaled = preprocessing.scale(X_predict_n)'"
      ]
     },
     "execution_count": 37,
     "metadata": {},
     "output_type": "execute_result"
    }
   ],
   "source": [
    "# scale features\n",
    "from sklearn import preprocessing \n",
    "X_train_scaled = preprocessing.normalize(X_train_n)  \n",
    "X_predict_scaled = preprocessing.normalize(X_predict_n) \n",
    "\"\"\"from sklearn import preprocessing\n",
    "X_train_scaled = preprocessing.scale(X_train_n, axis=1)\n",
    "print X_train_scaled[0]\n",
    "X_predict_scaled = preprocessing.scale(X_predict_n)\"\"\""
   ]
  },
  {
   "cell_type": "code",
   "execution_count": 38,
   "metadata": {
    "collapsed": false
   },
   "outputs": [
    {
     "name": "stdout",
     "output_type": "stream",
     "text": [
      "[  1.78526938e-01   2.92792991e-04   0.00000000e+00   9.23638692e-06\n",
      "   1.64443387e-02   0.00000000e+00   0.00000000e+00   0.00000000e+00\n",
      "   4.82253646e-04   0.00000000e+00   9.83797437e-01]\n"
     ]
    }
   ],
   "source": [
    "print X_train_scaled[0]"
   ]
  },
  {
   "cell_type": "code",
   "execution_count": 39,
   "metadata": {
    "collapsed": false
   },
   "outputs": [
    {
     "data": {
      "text/plain": [
       "'PCA didnt work\\nfrom sklearn.decomposition import PCA\\npca = PCA(n_components=10)\\nX_train_n = pca.fit_transform(X_train)\\nX_predict_n = pca.fit_transform(X_predict)'"
      ]
     },
     "execution_count": 39,
     "metadata": {},
     "output_type": "execute_result"
    }
   ],
   "source": [
    "\"\"\"PCA didnt work\n",
    "from sklearn.decomposition import PCA\n",
    "pca = PCA(n_components=10)\n",
    "X_train_n = pca.fit_transform(X_train)\n",
    "X_predict_n = pca.fit_transform(X_predict)\"\"\"\n"
   ]
  },
  {
   "cell_type": "code",
   "execution_count": 40,
   "metadata": {
    "collapsed": false
   },
   "outputs": [
    {
     "name": "stdout",
     "output_type": "stream",
     "text": [
      "(23443, 11)\n",
      "(23443,)\n",
      "(4140197, 11)\n"
     ]
    }
   ],
   "source": [
    "print X_train_n.shape\n",
    "print y_train_n.shape\n",
    "print X_predict_n.shape"
   ]
  },
  {
   "cell_type": "code",
   "execution_count": 41,
   "metadata": {
    "collapsed": false
   },
   "outputs": [
    {
     "name": "stdout",
     "output_type": "stream",
     "text": [
      "[0.98056969926241, 0.98020435516337578, 0.98016587281685386, 0.98014731551031475, 0.98012464533571286, 0.98009791589583395, 0.98000626140736058, 0.97989124764051438, 0.97988775256125926, 0.97976111042416103, 0.97974459586573093, 0.9796332558959161, 0.97961015606202262, 0.97959448738098598, 0.97951872525784778, 0.97951130610877712, 0.97948679787599624, 0.9794058118895721, 0.97935802928289872, 0.97927408978402464, 0.97925361415138279, 0.97922643354936767, 0.97919506944999524, 0.97917163718238776, 0.97909832206091285, 0.97902813292175872, 0.97897347150366176, 0.97897054850480469, 0.97897053579541982, 0.97897048542446397, 0.97896994055025699, 0.97896964142822185, 0.97896900185754865, 0.97896890135538461, 0.97896875718943488, 0.97896875718943488, 0.97896865439897596, 0.97896836565521161, 0.97896829153441056, 0.97896814481994288, 0.9789679393323848, 0.97896791300590558, 0.97896773159726114, 0.97896773159726114, 0.9789676586456364, 0.9789676586456364, 0.97896763581847845, 0.97896763581847845, 0.97896748539393907, 0.97896738763365532, 0.97896737650950816, 0.97896715471208073, 0.97896707322344756, 0.97896707322344756, 0.97896699042931368, 0.97896686683495515, 0.97896666658238896, 0.97896637812961762, 0.97896637812961762, 0.97896631617012397, 0.97896631617012397, 0.97896624076058292, 0.97896611816420609, 0.97896606927289209, 0.97896584603528147, 0.97896574125130031, 0.97896552844505247, 0.97896541402485038, 0.97896541402485038, 0.97896526346562307, 0.97896504102258575, 0.97896455969023366, 0.97896455969023366, 0.97896423999312443, 0.97896390288756763, 0.97896374425035482, 0.97896365578226197, 0.97896285065624911, 0.97896241272663498, 0.97896239450099065, 0.97896207896897813, 0.97896201539201055, 0.97896183454165397, 0.97896086558786366, 0.97896055615026512, 0.97896030279692281, 0.97895987721784772, 0.97895916388436888, 0.97895866932076736, 0.97895866663492115, 0.97895866518247177, 0.97895829057498873, 0.97895813361474715, 0.97895804869168457, 0.97895689351758619, 0.97895679994878193, 0.97895639872674067, 0.97895590999552951, 0.97895586261088885, 0.97895577170665393, 0.97895546362633268, 0.9789551761394123, 0.97895471912135568, 0.97895466848521573, 0.97895346591074295, 0.97895259598709894, 0.97895233133847093, 0.9789520669380638, 0.97895114407609685, 0.97895017948940244, 0.97894996085867714, 0.97894992996485952, 0.97894950261507085, 0.97894950261507085, 0.97894848684049118, 0.97894778902567769, 0.97894773482226582, 0.97894757712511005, 0.97894749509674628, 0.97894744507404319, 0.97894737975540813, 0.97894710363578619, 0.97894642154941347, 0.97894612176757467, 0.97894595380339733, 0.97894580274685705, 0.97894498586985945, 0.97894385310338949, 0.97894341519712635, 0.97894302320998161, 0.97894251100774299, 0.97894250798558913, 0.9789422195468318, 0.97894213293785415, 0.97894182527248119, 0.97894057982017824, 0.97894024648807687, 0.97894024648807687, 0.97893948657192886, 0.97893886756586679, 0.97893880432116787, 0.97893852792031, 0.97893846278208241, 0.9789374929445237, 0.97893731528601036, 0.97893687100155535, 0.9789365328253693, 0.97893638075097311, 0.97893637141579914, 0.97893620534767334, 0.97893599897259842, 0.97893571624248288, 0.97893569675787495, 0.97893510940241868, 0.97893471862378112, 0.97893447637606956, 0.97893446741821621, 0.97893442211069681, 0.97893420925946095, 0.9789340248386118, 0.9789339976633189, 0.97893396161462043, 0.97893391778999062, 0.97893377483830046, 0.97893354159377799, 0.97893351777717874, 0.97893351478589208, 0.97893346448639362, 0.97893341742581841, 0.97893340394709871, 0.97893334561431677, 0.97893326160814487, 0.97893324047511754, 0.97893321409515166, 0.97893320162028119, 0.97893308377750132, 0.97893297370164312, 0.97893293377506463, 0.97893278671450057, 0.97893258074069389, 0.9789325216803334, 0.97893248799102817, 0.9789324636056288, 0.97893245868330037, 0.97893234754513625, 0.97893225758698765, 0.97893222568427896, 0.97893212466029189, 0.97893211368181055, 0.97893211043147721, 0.97893205981749221, 0.97893190404404007, 0.97893177993759706, 0.97893172937494877, 0.97893168985766088, 0.9789316480362753, 0.97893159185116851, 0.97893154828081907, 0.97893154245704095, 0.97893146246714424, 0.97893138117156764, 0.97893133677165967, 0.97893121096013502, 0.97893099258482885, 0.97893092671654225, 0.97893092441570673, 0.97893076561332992, 0.97893056876822437, 0.9789304810315359, 0.97893041148455262, 0.97893019389154456, 0.97893013810209062, 0.97893003764183806, 0.97892991936794493, 0.97892991164635057, 0.97892975849338848, 0.97892960279430163, 0.97892954059607673, 0.97892939116728417, 0.97892930046000148, 0.97892928355231901, 0.97892916239539851, 0.97892911272168681, 0.97892904655181401, 0.97892887252870864, 0.97892874964751297, 0.97892870914681174, 0.97892863042199874, 0.978928487943171, 0.97892822415369729, 0.97892816019589068, 0.97892805310976472, 0.97892805310976472, 0.97892799688057741, 0.97892769490952813, 0.97892764108853481, 0.97892764108853481, 0.97892760812061463, 0.97892759441642518, 0.97892751803624944, 0.97892750124833583, 0.9789274608241002, 0.97892736338824271, 0.97892725581740569, 0.97892724991690527, 0.9789271453899866, 0.97892713762687023, 0.97892700454012971, 0.97892699897680102, 0.97892663540115021, 0.97892661100773748, 0.97892635103127945, 0.97892634705479953, 0.97892630108271295, 0.97892629784136886, 0.9789262974755254, 0.97892580672133123, 0.97892575165500195, 0.97892555064451003, 0.9789254046872452, 0.97892502745928545, 0.97892481686266841, 0.978924807756267, 0.9789247427745722, 0.97892453534338231, 0.97892405954764461, 0.97892396317912167, 0.9789238531765927, 0.97892348686374442, 0.97892348271521679, 0.97892336820278081, 0.97892321224128431, 0.97892315583453915, 0.97892281655322044, 0.97892280831903855, 0.97892275639532778, 0.97892267498895635, 0.97892265817788027, 0.97892246510917735, 0.97892216371970808, 0.97892202637165493, 0.97892201825215808, 0.97892183236278318, 0.97892180733965117, 0.97892176275783205, 0.97892166474215692, 0.97892153354958444, 0.97892152241803843, 0.9789212900197658, 0.97892124106218159, 0.97892106314193195, 0.97892091845688167, 0.97892043364632852, 0.97892039149705645, 0.97892008085608428, 0.97891990560452857, 0.97891973602530769, 0.97891970142899765, 0.97891940697911595, 0.97891939430451747, 0.97891933631731243, 0.97891917492523883, 0.97891908952629236, 0.97891901560061234, 0.97891886801873818, 0.97891872175552286, 0.97891858899832007, 0.97891858104304585, 0.97891850328321539, 0.97891831844482424, 0.97891819632268928, 0.97891791993049171, 0.97891769152604347, 0.97891725387956618, 0.97891720905749413, 0.97891703627093185, 0.97891699101207519, 0.97891690767914374, 0.97891673047879746, 0.97891625018129647, 0.97891606293099331, 0.97891603779983749, 0.97891594991958208, 0.97891591265199107, 0.97891589583307714, 0.97891579104669246, 0.97891567052533845, 0.97891566878310554, 0.97891560763790975, 0.97891559640179671, 0.97891556168478455, 0.97891542918259877, 0.97891536708333393, 0.97891533697313182, 0.97891533209319426, 0.97891504146911612, 0.978914893121548, 0.97891485460110705, 0.97891483108593536, 0.97891477807998717, 0.97891469069271708, 0.9789143898552789, 0.97891435317284148, 0.97891423641936082, 0.97891406616606447, 0.9789136849138268, 0.9789136550450076, 0.9789136039357712, 0.97891345644356575, 0.97891344904529032, 0.9789133671635375, 0.97891313874883001, 0.97891277307922075, 0.97891274982519605, 0.97891268307184676, 0.97891261747562064, 0.97891254438414343, 0.97891252611586332, 0.97891250055289525, 0.97891250055289525, 0.97891239404994002, 0.9789121826215238, 0.97891205857150709, 0.97891186055980073, 0.97891177507708893, 0.97891119704945972, 0.97891108935533089, 0.9789110235263343, 0.97891044880415268, 0.97891016659764984, 0.97891004206809562, 0.97891002308341579, 0.97890998990995204, 0.97890990050641846, 0.97890990050641846, 0.97890981240404684, 0.9789096873544868, 0.97890957154362412, 0.97890952935423203, 0.97890951115799674, 0.97890944417893944, 0.9789093000484167, 0.97890919364516826, 0.97890909270766113, 0.97890888800735731, 0.97890878458795716, 0.97890875802524258, 0.97890874748887191, 0.97890841914935911, 0.97890834854686115, 0.97890802105402885, 0.97890795080989157, 0.97890769552377532, 0.97890756378051336, 0.97890717971295016, 0.97890705123656685, 0.97890686077015965, 0.97890658221358851, 0.97890649642614613, 0.97890637032593431, 0.9789062887463722, 0.97890579767101304, 0.97890572616610216, 0.97890571854640018, 0.97890533665878321, 0.97890526401983524, 0.97890523874880842, 0.97890496191719412, 0.97890478179435159, 0.97890475621864026, 0.97890431608860584, 0.97890390109992043, 0.97890386131637364, 0.97890377313179588, 0.97890359126872606, 0.97890358895669349, 0.97890356101710085, 0.97890308392343151, 0.97890297860581077, 0.97890271935712048, 0.97890231622836543, 0.97890206612560304, 0.97890204553176419, 0.97890185754802983, 0.97890135026570158, 0.97890107940806503, 0.97890103976516052, 0.97890103976516052, 0.97890070369343651, 0.97890068548465936, 0.97890031334472938, 0.97890021601732902, 0.97889978011603629, 0.97889959166916307, 0.97889951954669474, 0.97889937842949404, 0.97889934658567646, 0.97889917015767902, 0.97889876705202972, 0.97889868357754728, 0.97889858759233517, 0.97889857155954929, 0.97889856041440815, 0.97889840527955341, 0.97889831036631025, 0.97889795467331164, 0.97889738034364815, 0.9788973583034084, 0.97889730071048642, 0.9788969372654861, 0.97889667227518584, 0.97889634912443046, 0.97889578894855156]\n"
     ]
    }
   ],
   "source": [
    "from sklearn.linear_model import LogisticRegression\n",
    "from sklearn.svm import SVC\n",
    "from sklearn.linear_model import SGDClassifier\n",
    "reg = LogisticRegression()\n",
    "sgd = SGDClassifier(loss=\"log\", penalty=\"l2\")\n",
    "svm = SVC(probability=True)\n",
    "#reg.fit(X_train_n, y_train_n)\n",
    "# pred = reg.predict_proba(X_predict_n)\n",
    "svm.fit(X_train_scaled, y_train_n)\n",
    "pred_svm = svm.predict_proba(X_predict_scaled)\n",
    "#sgd.fit(X_train_n, y_train_n)\n",
    "#pred_sgd = sgd.predict_proba(X_predict_n)\n",
    "probs_svm = []\n",
    "for t in pred_svm:\n",
    "    probs_svm.append(t[1])\n",
    "indices = sorted(range(len(probs_svm)), key=lambda k: probs_svm[k])[::-1][:453]\n",
    "print [probs_svm[indices[i]] for i in range(len(indices))]\n",
    "predicted_edges_svm = []\n",
    "for i in range(len(indices)):\n",
    "    predicted_edges_svm.append(non_edges[indices[i]])\n",
    "\n",
    "with open('predicted_edges_svm.txt', 'w') as fp:\n",
    "    for site_1, site_2 in predicted_edges_svm:\n",
    "        fp.write(site_1+'\\t'+site_2+'\\n')\n"
   ]
  },
  {
   "cell_type": "code",
   "execution_count": 50,
   "metadata": {
    "collapsed": true
   },
   "outputs": [],
   "source": [
    "from sklearn.neural_network import MLPClassifier\n",
    "#mlp = MLPClassifier(activation = 'logistic',solver='lbfgs', alpha=1e-4, hidden_layer_sizes=(100,100), random_state=1)\n",
    "mlp = MLPClassifier()"
   ]
  },
  {
   "cell_type": "code",
   "execution_count": 51,
   "metadata": {
    "collapsed": false
   },
   "outputs": [
    {
     "data": {
      "text/plain": [
       "MLPClassifier(activation='relu', alpha=0.0001, batch_size='auto', beta_1=0.9,\n",
       "       beta_2=0.999, early_stopping=False, epsilon=1e-08,\n",
       "       hidden_layer_sizes=(100,), learning_rate='constant',\n",
       "       learning_rate_init=0.001, max_iter=200, momentum=0.9,\n",
       "       nesterovs_momentum=True, power_t=0.5, random_state=None,\n",
       "       shuffle=True, solver='adam', tol=0.0001, validation_fraction=0.1,\n",
       "       verbose=False, warm_start=False)"
      ]
     },
     "execution_count": 51,
     "metadata": {},
     "output_type": "execute_result"
    }
   ],
   "source": [
    "mlp.fit(X_train_scaled, y_train_n)  "
   ]
  },
  {
   "cell_type": "code",
   "execution_count": 52,
   "metadata": {
    "collapsed": false
   },
   "outputs": [],
   "source": [
    "pred_mlp = mlp.predict_proba(X_predict_scaled)"
   ]
  },
  {
   "cell_type": "code",
   "execution_count": 53,
   "metadata": {
    "collapsed": false
   },
   "outputs": [
    {
     "name": "stdout",
     "output_type": "stream",
     "text": [
      "[0.98753841354307892, 0.98753789764469391, 0.98753648718217879, 0.98753511505086344, 0.98753258506772679, 0.98753256810053569, 0.98753149950947916, 0.98753149950947916, 0.98753149950947916, 0.98753149950947916, 0.98753148877827757, 0.98753148877827757, 0.98753148877827757, 0.98753148877827757, 0.98753148877827757, 0.98753148877827757, 0.98753148877827757, 0.98753148087459952, 0.98753147668114238, 0.98753145505713213, 0.98753143297408941, 0.98753143135592869, 0.98753142506995029, 0.98753142442447817, 0.98753142442447817, 0.98753142442447817, 0.98753136643407435, 0.98753130007932455, 0.98753126697317184, 0.98753115034050354, 0.98753110897513263, 0.98753100413230877, 0.98753095216911468, 0.98753088559505242, 0.98753087985970267, 0.98753084385988232, 0.98753075330336693, 0.98753072816526655, 0.98753071305139994, 0.98753066344429097, 0.98753053545976643, 0.98753039684520438, 0.98752988612805681, 0.98752981377390947, 0.98752964501272023, 0.98752925702318417, 0.98752907207423235, 0.98752902107775131, 0.98752881683741778, 0.98752783627932972, 0.98752734996662339, 0.9875272569654544, 0.98752679489012429, 0.98752622377784161, 0.98752524581667811, 0.9875250721784703, 0.98752487275574763, 0.98752426566650087, 0.98752337858957506, 0.98752295869609052, 0.98752290394996878, 0.98752265502546155, 0.98752235154573753, 0.98752227716971419, 0.98752227294485873, 0.9875222728598253, 0.98752222889762442, 0.98752132852492547, 0.98752104252947359, 0.98752071834986355, 0.98752070030517525, 0.98752052691674075, 0.9875202948181484, 0.98751977694227189, 0.98751963041894864, 0.98751945634968119, 0.98751876596279631, 0.98751550338632388, 0.98751513081825859, 0.98751433031494096, 0.98751412606390054, 0.98751399529302897, 0.98751376032021077, 0.98751363879956966, 0.98751315593832156, 0.98751302385969042, 0.98751299502694201, 0.98751295964200669, 0.98751277561558537, 0.9875127600288448, 0.98751227092453586, 0.98751126997555982, 0.9875107636192284, 0.98751064866905225, 0.98751026917109552, 0.98751011634348562, 0.98750972878292664, 0.98750893375372917, 0.98750779447776948, 0.98750681269211604, 0.98750668471717973, 0.98750619023417896, 0.98750610712174258, 0.98750595438938227, 0.98750529024728606, 0.98750389135298688, 0.98750387879744284, 0.98750187984237392, 0.98750116779769437, 0.98750072808098333, 0.9874997058616003, 0.98749876486789756, 0.98749860017184365, 0.98749850831308184, 0.98749788311414344, 0.98749514995157617, 0.98749091265218325, 0.98748952114008426, 0.98748702260838794, 0.98748623448932404, 0.98748547441859813, 0.98748409913012325, 0.98748350753939895, 0.98748140429573728, 0.9874810969410549, 0.9874784294540826, 0.98747782618945579, 0.98747719012024671, 0.98747616021065698, 0.98747289843290154, 0.98747220607848096, 0.98747171934627731, 0.98747100431729429, 0.98747057743887379, 0.98747028642582446, 0.98747006437654761, 0.98747006437654761, 0.98746984877489308, 0.98746941613270112, 0.98746905959571896, 0.98746637142316707, 0.98746632879969731, 0.9874655788558615, 0.98746527570279463, 0.98746466093458307, 0.98746161394589005, 0.98746071315218698, 0.98745808411692226, 0.98745741793822539, 0.98745667511959834, 0.98745651313980254, 0.98745629947147717, 0.98745614389319014, 0.98745585700170879, 0.98745570545565087, 0.98745563157692307, 0.9874554839489047, 0.98745501507952393, 0.98745492291219261, 0.98745431704128106, 0.98745428110099842, 0.98745402824833461, 0.98745341461970648, 0.98745303323272304, 0.98745280122344947, 0.9874515211666518, 0.98745117343435518, 0.98745045498970929, 0.98745038983464994, 0.98745038811064845, 0.98745005141537001, 0.98744938363922508, 0.98744850694398267, 0.9874474278486266, 0.98744730588156526, 0.98744721979603511, 0.98744621484719697, 0.98744598030837694, 0.98744442507673258, 0.98744430157961904, 0.98744155856433391, 0.98743973640032701, 0.98743906586487584, 0.98743820681990702, 0.98743799760009621, 0.98743697965258304, 0.98743687185911344, 0.98743687185911344, 0.98743606393679695, 0.98743579065869502, 0.98743321920174587, 0.98743144534503036, 0.98743119371059507, 0.98743118440719146, 0.98743093960759032, 0.98743026401369915, 0.98742679216053253, 0.98742659894925333, 0.98742540418930469, 0.98742533810893962, 0.98742528499460402, 0.98742520554867452, 0.98742377304964701, 0.98742282564728301, 0.98742089200259076, 0.98741984255721393, 0.98741915439253192, 0.98741880583680275, 0.9874183572434504, 0.98741785553601746, 0.98741740024416158, 0.98741718485820051, 0.98741690808440719, 0.98741660170142442, 0.98741578767868621, 0.98741532150987676, 0.98741502770473888, 0.98741480693409112, 0.98741401895325265, 0.9874139725762785, 0.987413171721233, 0.98741286550417295, 0.98741274884747976, 0.98741266450464882, 0.98741171570627995, 0.98741136498067406, 0.98741093693845183, 0.98741088614219163, 0.98741009104218258, 0.98740980220853958, 0.98740969721047522, 0.98740923832687011, 0.98740834486719897, 0.98740793464747334, 0.98740524909736327, 0.98740452549917013, 0.98740409302218457, 0.98740316339509893, 0.98740234400621218, 0.98740231306989601, 0.98740165242422451, 0.98740135250375916, 0.98740077129021497, 0.98740003979376334, 0.98739994076400406, 0.9873992219279345, 0.98739825613227417, 0.98739814341790966, 0.98739751233953754, 0.98739662461555699, 0.98739620750218859, 0.98739532771882788, 0.98739515577988191, 0.98739482312405646, 0.98739466756704908, 0.98739460398962342, 0.98739384161478738, 0.98739364494195225, 0.98739315451819609, 0.98739177973938774, 0.98739127311771002, 0.98739116629727008, 0.98738936572777614, 0.98738816488514503, 0.98738789661855764, 0.9873872735046505, 0.98738672866180932, 0.98738652471254607, 0.98738625103643751, 0.98738617966738162, 0.98738617759565073, 0.98738359661534469, 0.98738302942183342, 0.9873813705332527, 0.98738070893303098, 0.98737918541948666, 0.98737827884133211, 0.98737754139451184, 0.98737731975476173, 0.98737403852315997, 0.98737349241603678, 0.98737330760334874, 0.98737173391102173, 0.9873715211168137, 0.98737145563493212, 0.9873695672554853, 0.98736953639652103, 0.98736942171866438, 0.98736876145427488, 0.98736782622727992, 0.98736768502837069, 0.98736731108635101, 0.98736701293792484, 0.98736622815698771, 0.98736587711693524, 0.98736305866358842, 0.98736072102283678, 0.98736061120007845, 0.98735885075614482, 0.98735855760718982, 0.98735817402737458, 0.98735790355008868, 0.98735789287819786, 0.98735785990807956, 0.98735708405525457, 0.9873563999913102, 0.98735611624191866, 0.98735588951577102, 0.98735535499839733, 0.98735415508980007, 0.9873525996465794, 0.98735020093471926, 0.98734981686049017, 0.98734941361381845, 0.9873490649543486, 0.98734692170386051, 0.98734658923298679, 0.98734576064589252, 0.98734496765738844, 0.98734464438962832, 0.98734434706603014, 0.98734423430851515, 0.98734316423387714, 0.98734116961187079, 0.98734098759682454, 0.98734095171740099, 0.98734059728294432, 0.98734001632552371, 0.98733953687797116, 0.98733941570980177, 0.98733688366029437, 0.98733688366029437, 0.98733533794057893, 0.98733519185641294, 0.98733505289235324, 0.9873346797714303, 0.9873346023605919, 0.98733356785671067, 0.98733346822765256, 0.98733324991131743, 0.98733302283778202, 0.98733236681725489, 0.98733190084724365, 0.98733057873849484, 0.98733023663079356, 0.98733017526390143, 0.9873299260587205, 0.98732978838639107, 0.98732939451052137, 0.98732935576079361, 0.98732865780786228, 0.98732771706996814, 0.98732607962287144, 0.98732594418757302, 0.98732588633409601, 0.98732495326701464, 0.98732456910679001, 0.98732446656542872, 0.98732377178744124, 0.98732186626119911, 0.98732180925897506, 0.98732167629540057, 0.98732159242587314, 0.98732041437203311, 0.98732034348422393, 0.98731986746752154, 0.98731952484315666, 0.98731909374695126, 0.98731908623061848, 0.98731758449323104, 0.98731756421466366, 0.98731640443712876, 0.98731562018565666, 0.98731447128176009, 0.98731316245002831, 0.98731312959813489, 0.98731173473368328, 0.98731165385027475, 0.98731154064060589, 0.98731153746089317, 0.98731120303502751, 0.98731086269882695, 0.98731078423253726, 0.98731010332761582, 0.98730938948022851, 0.98730909708085834, 0.98730882376355966, 0.98730858146794287, 0.9873078820019231, 0.98730775712320107, 0.98730742066751731, 0.98730698472501299, 0.98730635431965674, 0.98730615471661776, 0.98730558902723364, 0.98730228569440426, 0.98730133889153782, 0.98730074138590473, 0.98730015639612123, 0.98730013821677431, 0.98729936910397942, 0.98729811996395045, 0.98729732917002422, 0.987296842672302, 0.98729671261825458, 0.98729647016678446, 0.98729613252918724, 0.98729462649157917, 0.98729445069201327, 0.98729408577359323, 0.98729345635997623, 0.98729262733310819, 0.98729240297577836, 0.9872918470570673, 0.98729119331728443, 0.98729072070271784, 0.98729064546517165, 0.98728851221500324, 0.98728697162744417, 0.98728693604075823, 0.98728574709201422, 0.98728517533082527, 0.98728507496825746, 0.98728503995121653, 0.9872828523588052, 0.98728261372977677, 0.98728260401982293, 0.98728226914605455, 0.98728225659201896, 0.98728168446489217, 0.98728002640279633, 0.98727964096245102, 0.98727947720429787, 0.98727835402130182, 0.98727783433702632, 0.98727749528480135, 0.98727741689190263, 0.987277367053782, 0.9872769066320638, 0.98727675328823294, 0.9872762643709545, 0.98727365397716582, 0.9872735307088697, 0.98727348624338862, 0.98727329790848684, 0.98727268918775601, 0.98727201930102326, 0.98727155316967441, 0.98727076272587599, 0.98727026644616511, 0.9872694650500986, 0.9872690773698648, 0.98726813982188644]\n"
     ]
    }
   ],
   "source": [
    "probs_mlp = []\n",
    "for t in pred_mlp:\n",
    "    probs_mlp.append(t[1])\n",
    "indices = sorted(range(len(probs_mlp)), key=lambda k: probs_mlp[k])[::-1][:453]\n",
    "print [probs_mlp[indices[i]] for i in range(len(indices))]"
   ]
  },
  {
   "cell_type": "code",
   "execution_count": 54,
   "metadata": {
    "collapsed": false
   },
   "outputs": [
    {
     "name": "stdout",
     "output_type": "stream",
     "text": [
      "[0.1814671715064545, 0.00029761511829001677, 0.0, 9.388504758428038e-06, 0.01671516723216645, 0.0, 0.0, 0.0, 0.0004901960784313725, 0, 1]\n"
     ]
    }
   ],
   "source": [
    "print X_train[0]"
   ]
  },
  {
   "cell_type": "code",
   "execution_count": 55,
   "metadata": {
    "collapsed": false
   },
   "outputs": [],
   "source": [
    "predicted_edges_mlp = []\n",
    "for i in range(len(indices)):\n",
    "    predicted_edges_mlp.append(non_edges[indices[i]])\n",
    "\n",
    "with open('predicted_edges_mlp.txt', 'w') as fp:\n",
    "    for site_1, site_2 in predicted_edges_mlp:\n",
    "        fp.write(site_1+'\\t'+site_2+'\\n')"
   ]
  },
  {
   "cell_type": "code",
   "execution_count": 48,
   "metadata": {
    "collapsed": false
   },
   "outputs": [
    {
     "name": "stderr",
     "output_type": "stream",
     "text": [
      "/home/lias/PycharmProjects/link-prediction/venv/lib/python2.7/site-packages/sklearn/cross_validation.py:44: DeprecationWarning: This module was deprecated in version 0.18 in favor of the model_selection module into which all the refactored classes and functions are moved. Also note that the interface of the new CV iterators are different from that of this module. This module will be removed in 0.20.\n",
      "  \"This module will be removed in 0.20.\", DeprecationWarning)\n"
     ]
    }
   ],
   "source": [
    "import xgboost\n",
    "xgb = xgboost.XGBClassifier()\n",
    "xgb.fit(X_train_n, y_train_n)\n",
    "pred_xgb = xgb.predict_proba(X_predict_n)"
   ]
  },
  {
   "cell_type": "code",
   "execution_count": 85,
   "metadata": {
    "collapsed": false
   },
   "outputs": [
    {
     "name": "stdout",
     "output_type": "stream",
     "text": [
      "[0.99908197, 0.99901986, 0.99883097, 0.99878412, 0.99877673, 0.99875224, 0.99863005, 0.99853814, 0.99850428, 0.99844295, 0.99842936, 0.99841297, 0.99839753, 0.99837506, 0.99827886, 0.99827886, 0.99825913, 0.99824393, 0.9982298, 0.99820161, 0.99819034, 0.99816811, 0.99815458, 0.99815458, 0.99815458, 0.99815458, 0.99815458, 0.99815458, 0.99814904, 0.99814701, 0.99810898, 0.9980768, 0.9980768, 0.99807632, 0.99807394, 0.99804282, 0.99798143, 0.99795282, 0.99793303, 0.99792516, 0.99791902, 0.99791795, 0.99791032, 0.99790287, 0.99790287, 0.99789399, 0.99789399, 0.99786925, 0.99786925, 0.9978689, 0.99786359, 0.99786347, 0.99783891, 0.99782324, 0.99779797, 0.99776077, 0.99774987, 0.99774951, 0.99774051, 0.99773139, 0.99773139, 0.99773139, 0.99773139, 0.9977144, 0.99771035, 0.99766123, 0.99765849, 0.99765414, 0.99759895, 0.99759442, 0.99759442, 0.99757665, 0.99756491, 0.99756491, 0.99756491, 0.99756491, 0.99754333, 0.99753821, 0.99753344, 0.99753112, 0.99753016, 0.99752027, 0.99751163, 0.9974885, 0.9974885, 0.99744874, 0.99744475, 0.99744475, 0.99744475, 0.99744475, 0.99744475, 0.99744475, 0.99744475, 0.99744475, 0.99744058, 0.99744058, 0.99744058, 0.99744058, 0.99744058, 0.99744058, 0.99744058, 0.99744058, 0.99744058, 0.99744058, 0.99744058, 0.99744058, 0.99744058, 0.99743408, 0.99743062, 0.9974094, 0.99737811, 0.99737811, 0.99737799, 0.99736148, 0.99736148, 0.99735451, 0.99735212, 0.99734986, 0.99734914, 0.99734443, 0.99733186, 0.99733019, 0.99733019, 0.99733019, 0.99733019, 0.99733019, 0.99733019, 0.99733019, 0.99733019, 0.99733019, 0.99733019, 0.99731255, 0.99731255, 0.99731255, 0.99729949, 0.99729949, 0.99729949, 0.99729592, 0.99729592, 0.99729592, 0.99728215, 0.99727875, 0.99727124, 0.99726969, 0.99726248, 0.99726248, 0.99724269, 0.99724162, 0.9972173, 0.9972173, 0.99720711, 0.99720496, 0.99720407, 0.99718034, 0.99718034, 0.99718034, 0.99717051, 0.99713659, 0.99713492, 0.99711847, 0.99709177, 0.99709177, 0.99707967, 0.99707127, 0.99706453, 0.99706453, 0.99705684, 0.99705005, 0.99703205, 0.99703109, 0.99701154, 0.99701118, 0.99695826, 0.99695826, 0.99695826, 0.99695826, 0.99695551, 0.99693942, 0.99693203, 0.99691808, 0.99691063, 0.99690694, 0.99690694, 0.99689603, 0.99689603, 0.99689603, 0.99689603, 0.99689603, 0.99689603, 0.99689603, 0.99689353, 0.99689204, 0.99688941, 0.996876, 0.99687397, 0.99687397, 0.99687397, 0.99687397, 0.99687397, 0.99687397, 0.99687117, 0.99686509, 0.99685788, 0.99685788, 0.99684948, 0.99684948, 0.99684948, 0.99682117, 0.99681431, 0.99681383, 0.99679703, 0.99679476, 0.99678886, 0.99678171, 0.99673742, 0.99673742, 0.99673742, 0.99673742, 0.99673718, 0.99672949, 0.99672949, 0.99672949, 0.99672949, 0.99672782, 0.99671644, 0.99669856, 0.99669856, 0.99669856, 0.99669856, 0.99669856, 0.99669832, 0.99668664, 0.99668664, 0.99667931, 0.99665821, 0.99665254, 0.99662137, 0.99662054, 0.99660468, 0.99660468, 0.99660373, 0.99658966, 0.99658966, 0.99658149, 0.99658149, 0.99658114, 0.99656314, 0.99656314, 0.99656314, 0.99656314, 0.99656206, 0.99655968, 0.99655759, 0.99655747, 0.99654621, 0.99654621, 0.99653208, 0.99653208, 0.99653208, 0.99651802, 0.9965089, 0.99650747, 0.99650109, 0.99650061, 0.99650061, 0.99647659, 0.99646878, 0.99645704, 0.99645621, 0.99645621, 0.99645621, 0.99645621, 0.99645507, 0.99644321, 0.99644321, 0.9964413, 0.99643874, 0.9964329, 0.99643147, 0.99642676, 0.99642122, 0.99642074, 0.99641657, 0.99641019, 0.99640346, 0.99640346, 0.99640346, 0.99639976, 0.99639976, 0.99639755, 0.99637872, 0.99637872, 0.99636215, 0.99636215, 0.99636215, 0.99636215, 0.99636215, 0.99636215, 0.99636215, 0.99636215, 0.99636084, 0.9963432, 0.99634236, 0.99633032, 0.9963277, 0.99632579, 0.99632132, 0.99632132, 0.99632132, 0.9963153, 0.99630821, 0.99630058, 0.99630058, 0.99629349, 0.99629116, 0.99628806, 0.99628806, 0.99628806, 0.99628806, 0.99628806, 0.99628806, 0.99628806, 0.99628806, 0.99628156, 0.99627787, 0.9962728, 0.9962669, 0.9962669, 0.99625129, 0.99625129, 0.996234, 0.996234, 0.99623376, 0.99621361, 0.99621361, 0.99621361, 0.99621361, 0.99621361, 0.9962126, 0.99621058, 0.99620914, 0.99620312, 0.99619663, 0.99619663, 0.99618137, 0.99615699, 0.99614149, 0.99612409, 0.99610966, 0.99609214, 0.99607545, 0.99607545, 0.99606162, 0.99606162, 0.99606091, 0.99605823, 0.99604923, 0.99604356, 0.99604356, 0.99604356, 0.99603194, 0.99602473, 0.99602473, 0.99600703, 0.99600559, 0.99600178, 0.99598938, 0.99598384, 0.99598384, 0.99597651, 0.99597025, 0.99596065, 0.99595946, 0.99595946, 0.99595886, 0.99595225, 0.99593073, 0.99591929, 0.99591929, 0.99591929, 0.99590033, 0.99590033, 0.99590033, 0.99589854, 0.9958759, 0.99587387, 0.99587387, 0.99586391, 0.99583352, 0.99582577, 0.99581486, 0.9958086, 0.9958086, 0.99580538, 0.9957847, 0.99577147, 0.99576533, 0.99576533, 0.99576181, 0.99574655, 0.99574655, 0.99574655, 0.99572647, 0.99572647, 0.99572241, 0.99571532, 0.99571252, 0.9957099, 0.9957099, 0.99570686, 0.99570125, 0.99570125, 0.99570125, 0.99569941, 0.99569941, 0.99569607, 0.99568981, 0.99568045, 0.9956792, 0.9956792, 0.9956792, 0.99567705, 0.99567258, 0.99565458, 0.99565458, 0.99565458, 0.99565458, 0.99565458, 0.99564677, 0.99564373, 0.99563879, 0.99563134, 0.99562705, 0.99562645, 0.99560392, 0.99560392, 0.99560249, 0.99560249, 0.99560249, 0.99557543, 0.99557543, 0.99555224, 0.99554944, 0.99554342, 0.99553251, 0.99553192, 0.99552983, 0.99552709, 0.99550074, 0.99549872, 0.99548435, 0.99548304, 0.99548304]\n"
     ]
    }
   ],
   "source": [
    "probs_xgb = []\n",
    "for t in pred_xgb:\n",
    "    probs_xgb.append(t[1])\n",
    "indices = sorted(range(len(probs_xgb)), key=lambda k: probs_xgb[k])[::-1][:453]\n",
    "predicted_edges_xgb = []\n",
    "for i in range(len(indices)):\n",
    "    predicted_edges_xgb.append(non_edges[indices[i]])\n",
    "print [probs_xgb[indices[i]] for i in range(len(indices))]\n",
    "with open('predicted_edges_xgb.txt', 'w') as fp:\n",
    "    for site_1, site_2 in predicted_edges_xgb:\n",
    "        fp.write(site_1+'\\t'+site_2+'\\n')"
   ]
  },
  {
   "cell_type": "code",
   "execution_count": 91,
   "metadata": {
    "collapsed": false
   },
   "outputs": [],
   "source": [
    "from sklearn.ensemble import VotingClassifier\n",
    "eclf1 = VotingClassifier(estimators=[('mlp', mlp), ('svm', svm), ('xgb', xgb)], voting='soft')\n",
    "eclf1 = eclf1.fit(X_train_n, y_train_n)\n",
    "voting_pred = eclf1.predict_proba(X_predict_n)"
   ]
  },
  {
   "cell_type": "code",
   "execution_count": 92,
   "metadata": {
    "collapsed": false
   },
   "outputs": [
    {
     "name": "stdout",
     "output_type": "stream",
     "text": [
      "[0.99902387336740972, 0.99885484287791149, 0.99882022673005932, 0.99847524495883766, 0.99840146098216354, 0.99824515987067264, 0.99823185275608806, 0.99822233105172309, 0.99821732530310003, 0.99819125255277896, 0.99812748218053537, 0.99807400265985047, 0.99806759101188414, 0.99796497042900079, 0.99781376796019305, 0.99777734045247524, 0.9976087499763201, 0.99754087915773992, 0.99748141886536812, 0.9974742697149378, 0.9973908135710351, 0.99713600823149984, 0.99711876151905077, 0.99708943335118916, 0.99708021168228489, 0.99703558023550609, 0.99690248552984073, 0.99688266589333507, 0.99686802470507818, 0.99685811187996387, 0.9968334899288549, 0.99681003340090513, 0.99677636993035079, 0.99674508182046428, 0.99672704834894521, 0.99672638582436468, 0.99670725634937485, 0.99669720793647121, 0.9966824822963477, 0.99663223633848441, 0.99660482849173693, 0.99660308766376149, 0.99658437938631028, 0.9965660848036908, 0.99656194067355852, 0.99654630558667556, 0.9965457980683583, 0.99652507997717776, 0.99652257005158573, 0.99650699171024193, 0.99650635271745391, 0.99645992449325149, 0.99645987686140891, 0.9964313071823071, 0.99642771851129919, 0.99642105464974373, 0.99641987124423348, 0.99639916978876253, 0.99638723403177287, 0.99638614370723066, 0.99638494306792813, 0.99638336678742789, 0.99637442986759306, 0.99636298879359364, 0.99635495034115096, 0.99633806290498683, 0.99632779372934166, 0.99631860092805569, 0.99630972460453771, 0.99630617283287604, 0.99627907872885257, 0.99625061138853876, 0.99623357656245248, 0.99622815168572287, 0.99621827468752111, 0.99618857670134597, 0.99618788452213869, 0.99616642043788417, 0.9961441468008273, 0.99612872330666413, 0.99612028462056579, 0.9961128728968679, 0.99611029436289777, 0.99610952180630485, 0.99609762756633191, 0.99608981580170131, 0.99608956448216013, 0.9960895100574062, 0.99607450734694492, 0.99607046939271304, 0.99606074247605303, 0.99601995022841916, 0.99600914014770492, 0.99600409117989008, 0.99599045688506072, 0.99598830080345835, 0.99598637063157736, 0.99598048251522275, 0.99597166110115554, 0.99596318637674575, 0.99595610214299146, 0.99594991810215505, 0.995940213078221, 0.99593729465015468, 0.99592852145715283, 0.99590957670313729, 0.99589310674093579, 0.9958814224907574, 0.99588105348597011, 0.99587206951156881, 0.99586560163948523, 0.99584236220629041, 0.99583448785640405, 0.99583344384740224, 0.99581389311103197, 0.99581244362993615, 0.99581017569049435, 0.99580274434429672, 0.99580213003162277, 0.99579772936076694, 0.9957926354328327, 0.99578068280280918, 0.99576346436311824, 0.99576318096962424, 0.99574625372055137, 0.99573383774104396, 0.99573361899685697, 0.99571799816479045, 0.99571413681245857, 0.99569975583343473, 0.99569764080856571, 0.99569647763268243, 0.99569470245348113, 0.99568476119700877, 0.99568388875264457, 0.99568076543851447, 0.99567824298548935, 0.9956662820335298, 0.99566514851856258, 0.99565895972471774, 0.9956499201532375, 0.99563985547279044, 0.99562751469749744, 0.99562744864017516, 0.99562501622516686, 0.99562449602827952, 0.99562393746882305, 0.99561991740481448, 0.9956132046808116, 0.99559857274502972, 0.99559460325689242, 0.99559162147258018, 0.99558722938629118, 0.99558444857810091, 0.99558277857424227, 0.99558137868133134, 0.99557805807668809, 0.99557688510171927, 0.99556264681741702, 0.99555369108944902, 0.99554914770751879, 0.99554217525813826, 0.99553974874476214, 0.99553127961718035, 0.99552887898346543, 0.99552794562327762, 0.99551473033491222, 0.99551099754467964, 0.99551008132785856, 0.99549813429790002, 0.99549183090564242, 0.99548599306588093, 0.99548589423479983, 0.99548204040985899, 0.99547456687198121, 0.99546551689067309, 0.99546119195513227, 0.99545920288564049, 0.99545872252500356, 0.99544918371804159, 0.99544709247779073, 0.99542824962204379, 0.99542629570098118, 0.99542466637007687, 0.99542357999532938, 0.99542350391457834, 0.99542330410545377, 0.9954192128445426, 0.99540543264672132, 0.99540025681852828, 0.99539191746007039, 0.99539191527778381, 0.99538871590254263, 0.99538279058276791, 0.99537974411652996, 0.99536657671728923, 0.99536501635524044, 0.99535710944255562, 0.99535432686555669, 0.99535220746299602, 0.99534265363848606, 0.99533664078453954, 0.99531040890673195, 0.99530311739395427, 0.9952978594917562, 0.99529525622903459, 0.99528768243483434, 0.9952864631931998, 0.9952845150945886, 0.99527418580444615, 0.99526737626851902, 0.99525876195316398, 0.99525705526116548, 0.99524479580122593, 0.99523602420150459, 0.9952287117235098, 0.99522475443288816, 0.99522423538180504, 0.99521776035147524, 0.99521773894244792, 0.99521174525275446, 0.99520612382691886, 0.99520319410812075, 0.99520178964852646, 0.99519282634544493, 0.99517621670275724, 0.99517083665586659, 0.9951686939298332, 0.99514159770432176, 0.99514109739821777, 0.9951401876079059, 0.99511091327518664, 0.99510562722426499, 0.99508905625529798, 0.99508169042051675, 0.9950813605082649, 0.99505841315929289, 0.99504713726313698, 0.99502542656494919, 0.99501239393117302, 0.99501064606927914, 0.99500190862898741, 0.99499950173825269, 0.9949910638737528, 0.99498749897185856, 0.99498484182074343, 0.99498288882533503, 0.99497986721505915, 0.99496807599689563, 0.9949601431661842, 0.9949599608727846, 0.99495914884100234, 0.99495765624848076, 0.9949424958202423, 0.99493190176468282, 0.99491803420770031, 0.99491791229201976, 0.99491348725166462, 0.99491328542926072, 0.99490804412705636, 0.99490693730203705, 0.9948993437188447, 0.9948926670113778, 0.99487880996177669, 0.99487165573839664, 0.99486988440693713, 0.99486380089254156, 0.99485230588394424, 0.99484481625913623, 0.99484175410281128, 0.994838570996463, 0.99483668193523089, 0.99483487598811671, 0.9948328099448972, 0.99482244613149107, 0.99481958308253038, 0.99480819858661962, 0.99480759892757797, 0.9948041575361648, 0.99479954915186408, 0.99479654263240891, 0.99479398496510896, 0.99479350304920999, 0.99478566751846864, 0.99478121443129019, 0.99478036414191495, 0.99476532006168894, 0.99476435255818407, 0.99475877390361456, 0.99475855201083618, 0.99475382888946629, 0.99475381898085935, 0.99475325994057118, 0.9947468343408371, 0.99474605411347206, 0.9947431587964225, 0.99473843607498758, 0.99473000053008553, 0.99472784491161326, 0.99472775089479459, 0.99472483859900862, 0.99470451496873469, 0.99469665405354613, 0.99469591004422331, 0.99469432821410353, 0.99468553568044238, 0.99467265916968228, 0.99467102217518344, 0.99467081462610329, 0.99466907424787243, 0.99466205305835709, 0.99465682511928744, 0.99465531365143323, 0.99465120554837505, 0.99464890815400786, 0.9946484943889452, 0.99464628395120513, 0.99464493362687101, 0.99464319954399238, 0.99463590261903745, 0.99463523612323457, 0.99463136485706982, 0.99463069601090615, 0.9946284937742802, 0.99462526046768274, 0.99462138353692231, 0.99461917987609583, 0.99461862944985435, 0.99461611003526196, 0.994615495304083, 0.99461494387951255, 0.99461441674352447, 0.99458231098026051, 0.99458147338125646, 0.99458073345997722, 0.99457713719068153, 0.99456931288404826, 0.9945678044524443, 0.99456605717239144, 0.9945653437854679, 0.99456457797445974, 0.99456085404372718, 0.99455115244608161, 0.99455003835608558, 0.99454323836079128, 0.9945409731064504, 0.99453130959237335, 0.99452654940652219, 0.99450535641353588, 0.99450478896056838, 0.99450234643360813, 0.99450013058398146, 0.99449731768445571, 0.99448832617170968, 0.99448198578066649, 0.9944722374943642, 0.99446386574611401, 0.99446016890393507, 0.99445576609632325, 0.99445384310122675, 0.99444756694887915, 0.99444048116496953, 0.99443886179203911, 0.99443846927176927, 0.99443109910513205, 0.99441822024735071, 0.99441452810297204, 0.99441135051933693, 0.99440978592991824, 0.99440968581537492, 0.99440878612343653, 0.99440279743192406, 0.9944017031502409, 0.99440074014316704, 0.99439147647302273, 0.99438746879355444, 0.99437705935855758, 0.9943752044413956, 0.99437415255779216, 0.99437259156036195, 0.99436987666918075, 0.99436106225664178, 0.99435439115754243, 0.99434910606011995, 0.99434681860957908, 0.99434177668987822, 0.99433721841189515, 0.99433561228150735, 0.99433511252033446, 0.99433485141827982, 0.99432490618007785, 0.99432442122411147, 0.99432091166197345, 0.99431808492310658, 0.99431526113114588, 0.99431516674769271, 0.99430486345135283, 0.99430189859114504, 0.994276445061132, 0.99427429749985441, 0.9942723583509897, 0.99427141135187291, 0.99426926010265537, 0.99426610710991137, 0.99426432907165074, 0.99426091030833008, 0.99426041177879776, 0.99425969778485879, 0.99425001987451012, 0.99424730876687129, 0.9942436434072941, 0.99424169895286851, 0.99424163112635477, 0.99423200242547882, 0.99422750632241319, 0.99422736372253462, 0.99422296318705394, 0.99422220526352501, 0.99422111041640093, 0.9942122278111617, 0.9942102234339395, 0.9942050682709701, 0.99419336318330931, 0.99418166135967889, 0.99417326700668918, 0.99416697529661657, 0.99416459307063876, 0.99416396569389442, 0.99414892601659333, 0.99414504938895698, 0.99414385311241826, 0.99414359791992535, 0.99413873955157994, 0.99412397925411755, 0.99411869571172851, 0.99411469914805695, 0.99411112849141015, 0.99409758431542838, 0.99409673871247728, 0.99409521739682594, 0.99409307921447121, 0.99408861203608545, 0.99407476891767121, 0.99406938621987739, 0.99406646415103417, 0.99406259946201281, 0.99406221083066493, 0.99405760821153677, 0.9940467544042787, 0.99404609574912428, 0.99403882697119794, 0.99403371179645872, 0.99401868692928363]\n"
     ]
    }
   ],
   "source": [
    "probs_vote = []\n",
    "for t in voting_pred:\n",
    "    probs_vote.append(t[1])\n",
    "indices = sorted(range(len(probs_vote)), key=lambda k: probs_vote[k])[::-1][:453]\n",
    "predicted_edges_vote = []\n",
    "for i in range(len(indices)):\n",
    "    predicted_edges_vote.append(non_edges[indices[i]])\n",
    "print [probs_vote[indices[i]] for i in range(len(indices))]\n",
    "with open('predicted_edges_voting.txt', 'w') as fp:\n",
    "    for site_1, site_2 in predicted_edges_vote:\n",
    "        fp.write(site_1+'\\t'+site_2+'\\n')"
   ]
  },
  {
   "cell_type": "code",
   "execution_count": null,
   "metadata": {
    "collapsed": true
   },
   "outputs": [],
   "source": []
  }
 ],
 "metadata": {
  "kernelspec": {
   "display_name": "Python 2",
   "language": "python",
   "name": "python2"
  },
  "language_info": {
   "codemirror_mode": {
    "name": "ipython",
    "version": 2
   },
   "file_extension": ".py",
   "mimetype": "text/x-python",
   "name": "python",
   "nbconvert_exporter": "python",
   "pygments_lexer": "ipython2",
   "version": "2.7.6"
  }
 },
 "nbformat": 4,
 "nbformat_minor": 0
}
