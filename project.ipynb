{
 "cells": [
  {
   "cell_type": "markdown",
   "metadata": {},
   "source": [
    "# Εργασία: Πρόβλεψη Ακμών στον Ελληνικό Ιστό\n",
    "\n",
    "Στα πλαίσια της εργασίας του μαθήματος Εφαρμογές στον Παγκόσμιο Ιστό, θα δουλέψετε πάνω σε ένα υποσύνολο του Ελληνικού Διαδικτύου. Συγκεκριμένα, σας δίνεται ο κατευθυνόμενος γράφος ο οποίος αναπαριστά το παραπάνω υποσύνολο όπως επίσης και το κείμενο κάποιων σελίδων για κάθε κόμβο του γράφου. Από το γράφο αυτό έχει αφαιρεθεί ένα σύνολο ακμών και στόχος σας είναι να προβλέψετε ποιές είναι οι ακμές που έχουν αφαιρεθεί.  \n",
    "\n",
    "### Σύνολο Δεδομένων\n",
    "\n",
    "Για να αποκτήσετε πρόσβαση στο σύνολο δεδομένων, θα πρέπει πρώτα να πάτε στη σελίδα http://195.251.252.9/challengePostgrad/index.php και να δημιουργήστε ένα λογαριασμό. Αφού δημιουργήσετε τον προσωπικό σας λογαριασμό και συνδεθείτε, μπορείτε πλέον από την κεντρική οθόνη να κατεβάσετε το σύνολο δεδομένων (165 MB). Το αρχείο που θα κατεβάσετε είναι συμπιεσμένο και θα πρέπει να το αποσυμπιέσετε. Αφού το αποσυμπιέσετε, θα δείτε ότι αποτελείται από ένα αρχέιο και ένα φάκελο. Το αρχείο με όνομα `edgelist.txt` περιέχει μια λίστα των ακμών του γράφου. Δώστε προσοχή στο γεγονός ότι ο γράφος είναι **κατευθυνόμενος**. Οι κόμβοι του γράφου αντιστοιχούν σε URLs του ελληνικού διαδικτύου, ενώ δυο κόμβοι συνδέονται μεταξύ τους με μια κατευθυνόμενη ακμή αν κάποια σελίδα του πρώτου URL περιέχει έναν ή περισσότερους συνδέσμους πρός κάποια σελίδα του δεύτερου URL. Για παράδειγμα, μπορείτε παρακάτω να δείτε τις 4 πρώτες ακμές της λίστας.\n",
    "``` html\n",
    "politikanet.gr\tfrontpages.gr\n",
    "fiat.gr\tfiatprofessional.gr\n",
    "dete.gr\tdeliveras.gr\n",
    "dete.gr\tparapolitika.gr\n",
    ".\n",
    ".\n",
    ".\n",
    "```\n",
    "Για παράδειγμα, η πρώτη γραμμή μας λέει ότι μια ή περισσότερες σελίδες του URL politikanet.gr έχει σύνδεσμο προς μια ή περισσότερες σελίδες του URL frontpages.gr. Ο γράφος που σας δίνεται περιέχει 2041 κόμβους και 2683 κατευθυνόμενες ακμές. Τρέχοντας τον παρακάτω κώδικα μπορείτε να δείτε την κατανομή βαθμών εισόδου των κόμβων του γράφου."
   ]
  },
  {
   "cell_type": "code",
   "execution_count": 4,
   "metadata": {
    "collapsed": false
   },
   "outputs": [
    {
     "data": {
      "text/plain": [
       "<matplotlib.text.Text at 0x7fdb294a0710>"
      ]
     },
     "execution_count": 4,
     "metadata": {},
     "output_type": "execute_result"
    },
    {
     "data": {
      "image/png": "[encoded data removed]",
      "text/plain": [
       "<matplotlib.figure.Figure at 0x7fdb2977b9d0>"
      ]
     },
     "metadata": {},
     "output_type": "display_data"
    }
   ],
   "source": [
    "import networkx as nx\n",
    "import matplotlib.pyplot as plt\n",
    "%matplotlib inline\n",
    "\n",
    "G = nx.read_edgelist('dataset/edgelist.txt', delimiter='\\t', create_using=nx.DiGraph())\n",
    "\n",
    "indeg_vals = sorted(set(G.in_degree().values()))\n",
    "indeg_hist = [G.in_degree().values().count(x) for x in indeg_vals]\n",
    "\n",
    "plt.plot(indeg_vals, indeg_hist, 'b-',marker='o')\n",
    "plt.ylabel(\"Frequency\")\n",
    "plt.xlabel(\"In Degree\")"
   ]
  },
  {
   "cell_type": "markdown",
   "metadata": {},
   "source": [
    "Αντίστοιχα, με τον παρακάτω κώδικα μπορείτε να δείτε την κατανομή βαθμών εξόδου των κόμβων του γράφου."
   ]
  },
  {
   "cell_type": "code",
   "execution_count": 5,
   "metadata": {
    "collapsed": false
   },
   "outputs": [
    {
     "data": {
      "text/plain": [
       "<matplotlib.text.Text at 0x7fdb51a4c090>"
      ]
     },
     "execution_count": 5,
     "metadata": {},
     "output_type": "execute_result"
    },
    {
     "data": {
      "image/png": "[encoded data removed]",
      "text/plain": [
       "<matplotlib.figure.Figure at 0x7fdb29391510>"
      ]
     },
     "metadata": {},
     "output_type": "display_data"
    }
   ],
   "source": [
    "outdeg_vals = sorted(set(G.out_degree().values()))\n",
    "outdeg_hist = [G.out_degree().values().count(x) for x in outdeg_vals]\n",
    "\n",
    "plt.plot(outdeg_vals, outdeg_hist, 'b-',marker='o')\n",
    "plt.ylabel(\"Frequency\")\n",
    "plt.xlabel(\"In Degree\")"
   ]
  },
  {
   "cell_type": "markdown",
   "metadata": {},
   "source": [
    "Εκτός από το αρχείο `edgelist.txt`, μετά την αποσυμπίεση του συνόλου δεδομένων θα πρέπει να υπάρχει και ένας φάκελος με το όνομα `hosts`. Ο φάκελος αυτός περιέχει αρχεία με επεξεργασμένο κείμενο από διάφορες σελίδες κάθε URL. Τα αρχεία αυτά είναι συμπιεσμένα. Συγκεκριμένα, υπάρχει ένα μοναδικό συμπιεσμένο αρχείο για κάθε κόμβο του γράφου. Για παράδειγμα, για τον κόμβο `apergia.gr` υπάρχει ένα συμπιεσμένο αρχείο με όνομα `apergia.gr.zip` το οποίο περιέχει δυο αρχεία με κείμενο που αντιστοιχούν σε υποσελίδες του παραπάνω URL. Θα πρέπει να διαβάσετε το κείμενο από τα παραπάνω αρχεία και να το χειριστείτε με τέτοιο τρόπο ώστε να σας βοηθήσει στην επίλυση του προβλήματος που καλείστε να αντιμετωπίσετε. Ο παρακάτω κώδικας δημιουργεί ένα λεξικό για την αποθήκευση του κειμένου κάθε URL. Στη συνέχεια, ανοίγει ένα-ένα τα συμπιεσμένα αρχεία στο φάκελο `hosts` και διαβάζει ένα-ένα τα αρχεία κειμένου μέσα σε κάθε συμπιεσμένο αρχείο. Έπειτα συνενώνει το κείμενο των αρχείων αυτών και το αποθηκεύει στο λεξικό. Δεν είναι απαραίτητο να συνενώσετε τα αρχεία κάθε URL μεταξύ τους. Μπορεί να είναι προτιμότερο να τα χειριστείτε καθένα ξεχωριστά. "
   ]
  },
  {
   "cell_type": "code",
   "execution_count": 7,
   "metadata": {
    "collapsed": false
   },
   "outputs": [],
   "source": [
    "import os\n",
    "import zipfile\n",
    "\n",
    "filenames = os.listdir('dataset/hosts')\n",
    "\n",
    "raw_text = {}\n",
    "\n",
    "for zipfilename in filenames:\n",
    "    with zipfile.ZipFile('dataset/hosts/'+zipfilename) as z:\n",
    "        text = \"\"\n",
    "        for filename in z.namelist():\n",
    "            if not os.path.isdir(filename):\n",
    "                with z.open(filename) as f:\n",
    "                    for line in f:\n",
    "                        text += line\n",
    "                        text += \" \"\n",
    "\n",
    "        raw_text[zipfilename[:-4]] = text"
   ]
  },
  {
   "cell_type": "markdown",
   "metadata": {},
   "source": [
    "### Στόχος\n",
    "\n",
    "Από το γράφο που σας δίνεται έχουν αφαιρεθεί **453** ακμές. Δηλαδή από το αρχείο `edgelist.txt` λείπουν **453** γραμμές. Με άλλα λόγια, στην πραγματικότητα αντί για 2683 κατευθυνόμενες ακμές, ο γράφος περιέχει 3136 κατευθυνόμενες ακμές. Στόχος σας όπως αναφέρθηκε παραπάνω, είναι η πρόβλεψη των ακμών αυτών. Για την πρόβλεψη των ακμών θα πρέπει να χρησιμοποιήσετε πληροφορίες τόσο από το γράφο όσο και από το κείμενο που σας δίνεται.\n",
    "\n",
    "### Αξιολόγηση\n",
    "\n",
    "Η αξιολόγηση θα γίνει με βάση την ακρίβεια (accuracy) δηλαδή τον αριθμό των ακμών που προβλέπτηκαν σωστά προς το συνολικό αριθμό τους (453). Η ακρίβεια παίρνει τιμές μεταξύ 0 και 1. Μια τέλεια μέθοδος θα επέστρεφε ακρίβεια ίση με 1 (δηλαδή θα προέβλεπε σωστά και τις 453 ακμές). Στην πράξη, είναι πολύ δύσκολο μια μέθοδος να προσεγγίσει την τέλεια, οπότε οι μέθοδοί σας αναμένονται να επιτύχουν χαμηλότερες ακρίβειες.\n",
    "\n",
    "### Υποβολή Λύσης\n",
    "\n",
    "Αφότου έχετε σχεδιάσει και τρέξει τον αλγοριθμό σας, και έχετε προβλέψει ποιές ακμές έχουν αφαιρεθεί από το γράφο θα πρέπει να υποβάλετε την λύση σας στην πλατφόρμα ώστε να αξιολογηθεί. Συγκεκριμένα, στην κεντρική οθόνη υπάρχει η επιλογή `Submit new file` η οποία σας δίνει τη δυνατότητα να ανεβάσετε τις προβλέψεις σας. Οι προβλέψεις σας θα πρέπει να περιέχονται σε ένα αρχείο όπου κάθε γραμμή θα αντιστοιχεί σε μια ακμή την οποία έχετε προβλέψει ότι έχει αφαιρεθεί από το γράφο. Μια ακμή καθορίζεται μονοσήμαντα με βάση το όνομα του κόμβου από τον οποίο ξεκινάει και αυτού στον οποίο καταλήγει. **Προσοχή**: Στο αρχείο που θα υποβάλλετε, μεταξύ του κόμβου από τον οποίο ξεκινάει η ακμή και αυτού στον οποίο καταλήγει θα πρέπει να υπάρχει ένας χαρακτήρας **tab** ('\\t'). Επιπλέον, θα πρέπει να υπάρχουν **453** γραμμές όσες και οι ακμές που έχουν αφαιρεθεί, και η κατάληξη του αρχείου θα πρέπει να είναι **.txt** .\n",
    "\n",
    "Σας δίνεται ως παράδειγμα ο παρακάτω κώδικας ο οποίος δημιουργεί ένα γράφο και στη συνέχεια, διαλέγει με τυχαίο τρόπο ζευγάρια κόμβων και προβλέπει τις μεταξύ τους ακμές ως αυτές που έχουν αφαιρεθεί. Το αποτέλεσμα αποθηκεύεται σε ένα αρχείο με όνομα `predicted_edges.txt`. Τα αρχεία που θα πρέπει να υποβάλλετε στην πλατφόρμα πρέπει να έχουν ίδια μορφή με αυτό που δημιουργείται από τον παρακάτω κώδικα. Μιάς και συνολικά υπάρχουν 2041 κόμβοι στο γράφο, υπάρχουν $2041^2 = 4165681$ πιθανές ακμές (ζευγάρια κόμβων λαμβάνωντας υπόψη και ακμές που ξεκινούν και καταλήγουν στον ίδιο κόμβο). Συνεπώς, ο παρακάτω κώδικας έχει ελάχιστες πιθανότητες να βρεί ακόμα και μια από τις 453 ακμές που έχουν αφαιρεθεί."
   ]
  },
  {
   "cell_type": "code",
   "execution_count": 5,
   "metadata": {
    "collapsed": false
   },
   "outputs": [],
   "source": [
    "from random import randint\n",
    "\n",
    "G = nx.read_edgelist('dataset/edgelist.txt', delimiter='\\t', create_using=nx.DiGraph())\n",
    "\n",
    "num_missing_edges = 453\n",
    "nodes = G.nodes()\n",
    "\n",
    "with open('predicted_edges.txt', 'w') as f:\n",
    "    for i in range(num_missing_edges):\n",
    "        node1 = nodes[randint(0,G.number_of_nodes()-1)]\n",
    "        node2 = nodes[randint(0,G.number_of_nodes()-1)]\n",
    "        f.write(node1+'\\t'+node2+'\\n')"
   ]
  },
  {
   "cell_type": "markdown",
   "metadata": {},
   "source": [
    "Για να δείτε την ακρίβεια της καλύτερης λύσης που έχετε υποβάλλει όπως επίσης και τη θέση σας σε σχέση με τους υπόλοιπους συμμετέχοντες, μπορείτε να πατήσετε στην επιλογή `Show Leaderboard` στην κεντρική οθόνη.\n",
    "\n",
    "### Χρήσιμες Βιβλιοθήκες της Python\n",
    "Σε αυτή την ενότητα, θα κάνουμε μια σύντομη αναφορά σε κάποια χρήσιμα εργαλεία τα οποία και σας προτείνονται να χρησιμοποιήσετε:\n",
    "<ul>\n",
    "    <li>Μιάς και τα δεδομένα που σας δίνονται είναι σε μορφή γράφου ίσως είναι απαραίτητη η χρήση κάποιας βιβλιοθήκης για την διαχείριση και ανάλυση γράφων. Στην κατηγορία αυτή ανήκει η βιβλιοθήκη <a href='http://networkx.github.io/'>`NetworkX`</a> της `Python` η οποία θα σας επιτρέψει τη δημιουργία, χειρισμό και τη μελέτη της δομής και διάφορων άλλων χαρακτηριστικών ενός γράφου. </li>\n",
    "    <li>Μια βιβλιοθήκη μηχανικής μάθησης της `Python` με μεγάλες δυνατότητες είναι η <a href='http://scikit-learn.org'>`scikit-learn`</a>. Μπορεί να χρησιμοποιηθεί στο στάδιο της προεπεξεργασίας καθώς και στο στάδιο της ταξινόμησης (ένας μεγάλος αριθμός αλγορίθμων ταξινόμησης είναι διαθέσιμος) εφόσον επιλέξετε να μετατρέψετε το πρόβλημα ως ένα πρόβλημα ταξινόμησης.</li>\n",
    "    <li>Από τη στιγμή που θα ασχοληθείτε και με κείμενο, η βιβλιοθήκη Φυσικής Γλώσσας <a href='http://www.nltk.org'>`NLTK`</a> της `Python` μπορεί επίσης να σας φανεί χρήσιμη.</li>\n",
    "</ul>\n",
    "\n",
    "\n",
    "### Λεπτομέρειες για την Υποβολή της Εργασίας\n",
    "\n",
    "Η εργασία είναι ατομική. Η τελική αξιολόγηση της εργασίας σας θα βασίζεται στην ακρίβεια την οποία θα επιτύχετε, καθώς και στη συνολική προσέγγισή σας στο πρόβλημα. Στα πλαίσια της εργασίας, θα πρέπει να υποβληθούν τα\n",
    "εξής:\n",
    "<ul>\n",
    "    <li>Μια αναφορά 2-3 σελίδων, στην οποία θα πρέπει να περιγράψετε την προσέγγιση που ακολουθήσατε και τις μεθόδους που χρησιμοποιήσατε για την εκπόνηση της εργασίας. Μας ενδιαφέρει να μάθουμε πώς αντιμετωπίσατε κάθε στάδιο του προβλήματος, π.χ. τι είδους αναπαράσταση χρησιμοποιήσατε, ποιά χαρακτηριστικά χρησιμοποιήσατε, πώς επεξεργαστήκατε το κείμενο και πώς το γράφο, ποιούς αλγορίθμους ταξινόμησης χρησιμοποιήσατε και γιατί, την απόδοση των μεθόδων σας (ακρίβεια και χρόνο εκπαίδευσης), τις προσεγγίσεις που τελικά δεν λειτούργησαν αλλά είναι ενδιαφέρουσες, και γενικά, οτιδήποτε θεωρείτε σημαντικό να αναφερθεί.</li>\n",
    "    <li>Ένας φάκελος με τον κώδικα της εφαρμογής σας.</li>\n",
    "    <li>Εναλλακτικά μπορείτε να συνδυάσετε τα δυο παραπάνω σε ένα αρχείο Ipython Notebook.</li>\n",
    "    <li>Δημιουργήστε ένα .zip αρχείο που περιέχει τον κώδικα και την αναφορά (ή το Ipython Notebook) και υποβάλλετέ το στην πλατφόρμα e-class.</li>\n",
    "    <li>**Λήξη προθεσμίας**: ΤΒΑ.</li>\n",
    "</ul>"
   ]
  }
 ],
 "metadata": {
  "anaconda-cloud": {},
  "kernelspec": {
   "display_name": "Python 2",
   "language": "python",
   "name": "python2"
  },
  "language_info": {
   "codemirror_mode": {
    "name": "ipython",
    "version": 2
   },
   "file_extension": ".py",
   "mimetype": "text/x-python",
   "name": "python",
   "nbconvert_exporter": "python",
   "pygments_lexer": "ipython2",
   "version": "2.7.6"
  }
 },
 "nbformat": 4,
 "nbformat_minor": 1
}
